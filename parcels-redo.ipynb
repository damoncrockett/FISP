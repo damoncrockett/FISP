{
 "cells": [
  {
   "cell_type": "code",
   "execution_count": 1,
   "metadata": {
    "collapsed": true
   },
   "outputs": [],
   "source": [
    "import pandas as pd\n",
    "import shapefile\n",
    "import shapely"
   ]
  },
  {
   "cell_type": "code",
   "execution_count": 2,
   "metadata": {
    "collapsed": true
   },
   "outputs": [],
   "source": [
    "polygons_sf = shapefile.Reader(\"/Users/damoncrockett/Desktop/FISP/SanGIS/Parcels/PARCELS.shp\")\n",
    "polygon_shapes = polygons_sf.shapes()\n",
    "polygon_points = [q.points for q in polygon_shapes]\n",
    "from shapely.geometry import Polygon, Point\n",
    "polygons = [Polygon(q) for q in polygon_points]"
   ]
  },
  {
   "cell_type": "code",
   "execution_count": 3,
   "metadata": {
    "collapsed": true
   },
   "outputs": [],
   "source": [
    "records = polygons_sf.records()"
   ]
  },
  {
   "cell_type": "code",
   "execution_count": 5,
   "metadata": {
    "collapsed": false
   },
   "outputs": [],
   "source": [
    "fields = polygons_sf.fields"
   ]
  },
  {
   "cell_type": "code",
   "execution_count": 6,
   "metadata": {
    "collapsed": false
   },
   "outputs": [
    {
     "data": {
      "text/plain": [
       "60"
      ]
     },
     "execution_count": 6,
     "metadata": {},
     "output_type": "execute_result"
    }
   ],
   "source": [
    "len(fields)"
   ]
  },
  {
   "cell_type": "code",
   "execution_count": 12,
   "metadata": {
    "collapsed": false
   },
   "outputs": [
    {
     "data": {
      "text/plain": [
       "[('DeletionFlag', 'C', 1, 0),\n",
       " ['APN', 'C', 10, 0],\n",
       " ['APN_8', 'C', 8, 0],\n",
       " ['PARCELID', 'N', 10, 0],\n",
       " ['OWN_NAME1', 'C', 96, 0]]"
      ]
     },
     "execution_count": 12,
     "metadata": {},
     "output_type": "execute_result"
    }
   ],
   "source": [
    "fields[:5]"
   ]
  },
  {
   "cell_type": "code",
   "execution_count": 8,
   "metadata": {
    "collapsed": false
   },
   "outputs": [
    {
     "data": {
      "text/plain": [
       "59"
      ]
     },
     "execution_count": 8,
     "metadata": {},
     "output_type": "execute_result"
    }
   ],
   "source": [
    "len(records[0])"
   ]
  },
  {
   "cell_type": "code",
   "execution_count": 11,
   "metadata": {
    "collapsed": false
   },
   "outputs": [
    {
     "data": {
      "text/plain": [
       "['2731740600',\n",
       " '27317406',\n",
       " 387979,\n",
       " 'CALDWELL TRUST 09-22-03',\n",
       " '                                                  ']"
      ]
     },
     "execution_count": 11,
     "metadata": {},
     "output_type": "execute_result"
    }
   ],
   "source": [
    "records[0][:5]"
   ]
  },
  {
   "cell_type": "markdown",
   "metadata": {},
   "source": [
    "Ok so although the 'fields' output has this 'deletion flag' thing, it doesn't actually appear in the records."
   ]
  },
  {
   "cell_type": "code",
   "execution_count": 18,
   "metadata": {
    "collapsed": false
   },
   "outputs": [],
   "source": [
    "cities = []\n",
    "for record in records:\n",
    "    cities.append(record[12])"
   ]
  },
  {
   "cell_type": "code",
   "execution_count": 19,
   "metadata": {
    "collapsed": true
   },
   "outputs": [],
   "source": [
    "from collections import Counter"
   ]
  },
  {
   "cell_type": "code",
   "execution_count": 20,
   "metadata": {
    "collapsed": false
   },
   "outputs": [
    {
     "data": {
      "text/plain": [
       "Counter({'SD': 382766, 'CN': 218433, 'CB': 89832, 'CV': 66421, 'OC': 61000, 'ES': 37297, 'SM': 25856, 'VS': 23848, 'EN': 23121, 'EC': 22577, 'ST': 18446, 'LM': 17194, 'PW': 16111, 'SO': 13097, 'CO': 11042, 'NC': 10287, 'LG': 7253, 'IB': 5959, 'DM': 4669, '  ': 1255})"
      ]
     },
     "execution_count": 20,
     "metadata": {},
     "output_type": "execute_result"
    }
   ],
   "source": [
    "Counter(cities)"
   ]
  },
  {
   "cell_type": "code",
   "execution_count": 21,
   "metadata": {
    "collapsed": true
   },
   "outputs": [],
   "source": [
    "sd = []\n",
    "for record in records:\n",
    "    if record[12]=='SD':\n",
    "        sd.append(record)"
   ]
  },
  {
   "cell_type": "code",
   "execution_count": 22,
   "metadata": {
    "collapsed": false
   },
   "outputs": [
    {
     "data": {
      "text/plain": [
       "382766"
      ]
     },
     "execution_count": 22,
     "metadata": {},
     "output_type": "execute_result"
    }
   ],
   "source": [
    "len(sd)"
   ]
  },
  {
   "cell_type": "code",
   "execution_count": 34,
   "metadata": {
    "collapsed": false
   },
   "outputs": [],
   "source": [
    "columns = fields[1:]"
   ]
  },
  {
   "cell_type": "code",
   "execution_count": 35,
   "metadata": {
    "collapsed": true
   },
   "outputs": [],
   "source": [
    "cols = []\n",
    "for column in columns:\n",
    "    cols.append(column[0])"
   ]
  },
  {
   "cell_type": "code",
   "execution_count": 40,
   "metadata": {
    "collapsed": false
   },
   "outputs": [
    {
     "data": {
      "text/plain": [
       "59"
      ]
     },
     "execution_count": 40,
     "metadata": {},
     "output_type": "execute_result"
    }
   ],
   "source": [
    "len(sd[0])"
   ]
  },
  {
   "cell_type": "code",
   "execution_count": 45,
   "metadata": {
    "collapsed": true
   },
   "outputs": [],
   "source": [
    "df = pd.DataFrame()"
   ]
  },
  {
   "cell_type": "code",
   "execution_count": 46,
   "metadata": {
    "collapsed": true
   },
   "outputs": [],
   "source": [
    "for i in range(59):\n",
    "    tmp = []\n",
    "    for record in sd:\n",
    "        tmp.append(record[i])\n",
    "    df[i] = tmp"
   ]
  },
  {
   "cell_type": "code",
   "execution_count": 49,
   "metadata": {
    "collapsed": false
   },
   "outputs": [],
   "source": [
    "df.columns = cols"
   ]
  },
  {
   "cell_type": "code",
   "execution_count": 55,
   "metadata": {
    "collapsed": false
   },
   "outputs": [
    {
     "data": {
      "text/html": [
       "<div>\n",
       "<table border=\"1\" class=\"dataframe\">\n",
       "  <thead>\n",
       "    <tr style=\"text-align: right;\">\n",
       "      <th></th>\n",
       "      <th>APN</th>\n",
       "      <th>APN_8</th>\n",
       "      <th>PARCELID</th>\n",
       "      <th>OWN_NAME1</th>\n",
       "      <th>OWN_NAME2</th>\n",
       "      <th>OWN_NAME3</th>\n",
       "      <th>FRACTINT</th>\n",
       "    </tr>\n",
       "  </thead>\n",
       "  <tbody>\n",
       "    <tr>\n",
       "      <th>0</th>\n",
       "      <td>3732103400</td>\n",
       "      <td>37321034</td>\n",
       "      <td>479921</td>\n",
       "      <td>MARTORANA ELLEN</td>\n",
       "      <td>...</td>\n",
       "      <td>...</td>\n",
       "      <td>1</td>\n",
       "    </tr>\n",
       "    <tr>\n",
       "      <th>1</th>\n",
       "      <td>3181344500</td>\n",
       "      <td>31813445</td>\n",
       "      <td>467579</td>\n",
       "      <td>JESTER EDGAR L JR</td>\n",
       "      <td>...</td>\n",
       "      <td>...</td>\n",
       "      <td>1</td>\n",
       "    </tr>\n",
       "    <tr>\n",
       "      <th>2</th>\n",
       "      <td>5830411300</td>\n",
       "      <td>58304113</td>\n",
       "      <td>115047</td>\n",
       "      <td>ARCHER MARIA J</td>\n",
       "      <td>...</td>\n",
       "      <td>...</td>\n",
       "      <td>1</td>\n",
       "    </tr>\n",
       "    <tr>\n",
       "      <th>3</th>\n",
       "      <td>3532400900</td>\n",
       "      <td>35324009</td>\n",
       "      <td>5122202</td>\n",
       "      <td>WINDEMERE HOMEOWNERS ASSN</td>\n",
       "      <td>...</td>\n",
       "      <td>...</td>\n",
       "      <td>1</td>\n",
       "    </tr>\n",
       "    <tr>\n",
       "      <th>4</th>\n",
       "      <td>5390213300</td>\n",
       "      <td>53902133</td>\n",
       "      <td>255959</td>\n",
       "      <td>ZIMMER PAUL&amp;KATHERINE C</td>\n",
       "      <td>...</td>\n",
       "      <td>...</td>\n",
       "      <td>1</td>\n",
       "    </tr>\n",
       "  </tbody>\n",
       "</table>\n",
       "</div>"
      ],
      "text/plain": [
       "          APN     APN_8  PARCELID                  OWN_NAME1  \\\n",
       "0  3732103400  37321034    479921            MARTORANA ELLEN   \n",
       "1  3181344500  31813445    467579          JESTER EDGAR L JR   \n",
       "2  5830411300  58304113    115047             ARCHER MARIA J   \n",
       "3  3532400900  35324009   5122202  WINDEMERE HOMEOWNERS ASSN   \n",
       "4  5390213300  53902133    255959    ZIMMER PAUL&KATHERINE C   \n",
       "\n",
       "                                           OWN_NAME2  \\\n",
       "0                                                ...   \n",
       "1                                                ...   \n",
       "2                                                ...   \n",
       "3                                                ...   \n",
       "4                                                ...   \n",
       "\n",
       "                                           OWN_NAME3  FRACTINT  \n",
       "0                                                ...         1  \n",
       "1                                                ...         1  \n",
       "2                                                ...         1  \n",
       "3                                                ...         1  \n",
       "4                                                ...         1  "
      ]
     },
     "execution_count": 55,
     "metadata": {},
     "output_type": "execute_result"
    }
   ],
   "source": [
    "df.iloc[:,:7].head()"
   ]
  },
  {
   "cell_type": "code",
   "execution_count": 57,
   "metadata": {
    "collapsed": false
   },
   "outputs": [],
   "source": [
    "n = len(df)"
   ]
  },
  {
   "cell_type": "code",
   "execution_count": 66,
   "metadata": {
    "collapsed": false
   },
   "outputs": [],
   "source": [
    "l = list(df.columns)\n",
    "l = [item.lower() for item in l]"
   ]
  },
  {
   "cell_type": "code",
   "execution_count": 68,
   "metadata": {
    "collapsed": false
   },
   "outputs": [],
   "source": [
    "df.columns = l"
   ]
  },
  {
   "cell_type": "code",
   "execution_count": 70,
   "metadata": {
    "collapsed": false
   },
   "outputs": [],
   "source": [
    "addresses = []\n",
    "for i in range(n):\n",
    "    if df.situs_addr.loc[i]!=None:\n",
    "        a = str(df.situs_addr.loc[i])\n",
    "    else:\n",
    "        a = ''\n",
    "    if df.situs_pre_.loc[i]!=None:\n",
    "        b = df.situs_pre_.loc[i]\n",
    "    else:\n",
    "        b = ''\n",
    "    if df.situs_stre.loc[i]!=None:\n",
    "        c = df.situs_stre.loc[i]\n",
    "    else:\n",
    "        c = ''\n",
    "    if df.situs_suff.loc[i]!=None:\n",
    "        d = df.situs_suff.loc[i]\n",
    "    else:\n",
    "        d = ''\n",
    "    if df.situs_post.loc[i]!=None:\n",
    "        e = df.situs_post.loc[i]\n",
    "    else:\n",
    "        e = ''\n",
    "    if df.situs_frac.loc[i]!=None:\n",
    "        f = df.situs_frac.loc[i]\n",
    "    else:\n",
    "        f = ''\n",
    "    g = 'SAN DIEGO'\n",
    "    if df.situs_zip.loc[i]!=None:\n",
    "        h = str(df.situs_zip.loc[i])\n",
    "    else:\n",
    "        h = ''\n",
    "    tmp = a+' '+b+' '+c+' '+d+' '+e+' '+f+' '+g+' '+h\n",
    "    addresses.append(tmp)"
   ]
  },
  {
   "cell_type": "code",
   "execution_count": 72,
   "metadata": {
    "collapsed": false
   },
   "outputs": [],
   "source": [
    "df['address'] = addresses"
   ]
  },
  {
   "cell_type": "code",
   "execution_count": 73,
   "metadata": {
    "collapsed": false
   },
   "outputs": [
    {
     "name": "stdout",
     "output_type": "stream",
     "text": [
      "<class 'pandas.core.frame.DataFrame'>\n",
      "Int64Index: 382766 entries, 0 to 382765\n",
      "Data columns (total 60 columns):\n",
      "apn           382766 non-null object\n",
      "apn_8         382766 non-null object\n",
      "parcelid      382766 non-null int64\n",
      "own_name1     382766 non-null object\n",
      "own_name2     382766 non-null object\n",
      "own_name3     382766 non-null object\n",
      "fractint      382766 non-null float64\n",
      "own_addr1     382766 non-null object\n",
      "own_addr2     382766 non-null object\n",
      "own_addr3     382766 non-null object\n",
      "own_addr4     382766 non-null object\n",
      "own_zip       382766 non-null object\n",
      "situs_juri    382766 non-null object\n",
      "situs_stre    382766 non-null object\n",
      "situs_suff    382766 non-null object\n",
      "situs_post    382766 non-null object\n",
      "situs_pre_    382766 non-null object\n",
      "situs_addr    382766 non-null int64\n",
      "situs_frac    382766 non-null object\n",
      "situs_buil    382766 non-null object\n",
      "situs_suit    382766 non-null object\n",
      "situs_comm    382766 non-null object\n",
      "legldesc      382766 non-null object\n",
      "asr_land      382766 non-null int64\n",
      "asr_impr      382766 non-null int64\n",
      "asr_total     382766 non-null int64\n",
      "doctype       382766 non-null object\n",
      "docnmbr       382766 non-null object\n",
      "docdate       382766 non-null object\n",
      "acreage       382766 non-null float64\n",
      "taxstat       382766 non-null object\n",
      "ownerocc      382766 non-null object\n",
      "tranum        382766 non-null object\n",
      "asr_zone      382766 non-null int64\n",
      "asr_landus    382766 non-null int64\n",
      "unitqty       382766 non-null int64\n",
      "submap        382766 non-null object\n",
      "subname       382766 non-null object\n",
      "nucleus_zo    382766 non-null object\n",
      "nucleus_us    382766 non-null object\n",
      "addrno        382766 non-null int64\n",
      "addrfrac      382766 non-null object\n",
      "addrunit      382766 non-null object\n",
      "roadpdir      382766 non-null object\n",
      "roadname      382766 non-null object\n",
      "roadpostd     382766 non-null object\n",
      "roadsfx       382766 non-null object\n",
      "zip           382766 non-null object\n",
      "nucleus_si    382766 non-null int64\n",
      "nucleus__1    382766 non-null int64\n",
      "nucleus__2    382766 non-null object\n",
      "situs_zip     382766 non-null object\n",
      "x_coord       382766 non-null float64\n",
      "y_coord       382766 non-null float64\n",
      "multi         382766 non-null object\n",
      "overlay_ju    382766 non-null object\n",
      "sub_type      382766 non-null int64\n",
      "shape_area    382766 non-null object\n",
      "shape_len     382766 non-null object\n",
      "address       382766 non-null object\n",
      "dtypes: float64(4), int64(12), object(44)\n",
      "memory usage: 178.1+ MB\n"
     ]
    }
   ],
   "source": [
    "df.info()"
   ]
  },
  {
   "cell_type": "code",
   "execution_count": 74,
   "metadata": {
    "collapsed": true
   },
   "outputs": [],
   "source": [
    "df.to_csv(\"/Users/damoncrockett/Desktop/FISP/parcels_new.csv\",index=False)"
   ]
  }
 ],
 "metadata": {
  "kernelspec": {
   "display_name": "Python 2",
   "language": "python",
   "name": "python2"
  },
  "language_info": {
   "codemirror_mode": {
    "name": "ipython",
    "version": 2
   },
   "file_extension": ".py",
   "mimetype": "text/x-python",
   "name": "python",
   "nbconvert_exporter": "python",
   "pygments_lexer": "ipython2",
   "version": "2.7.10"
  }
 },
 "nbformat": 4,
 "nbformat_minor": 0
}
