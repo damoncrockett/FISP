{
 "cells": [
  {
   "cell_type": "code",
   "execution_count": 1,
   "metadata": {
    "collapsed": true
   },
   "outputs": [],
   "source": [
    "import shapefile\n",
    "import shapely"
   ]
  },
  {
   "cell_type": "code",
   "execution_count": 3,
   "metadata": {
    "collapsed": false
   },
   "outputs": [],
   "source": [
    "polygons_sf = shapefile.Reader(\"/Users/damoncrockett/Desktop/FISP/SD/SD_TILE_SHAPE/SD_TILE_SHAPE.shp\")"
   ]
  },
  {
   "cell_type": "code",
   "execution_count": 5,
   "metadata": {
    "collapsed": true
   },
   "outputs": [],
   "source": [
    "records = polygons_sf.records()"
   ]
  },
  {
   "cell_type": "code",
   "execution_count": 6,
   "metadata": {
    "collapsed": true
   },
   "outputs": [],
   "source": [
    "polygon_shapes = polygons_sf.shapes()\n",
    "polygon_points = [q.points for q in polygon_shapes]\n",
    "from shapely.geometry import Polygon, Point\n",
    "polygons = [Polygon(q) for q in polygon_points]"
   ]
  },
  {
   "cell_type": "code",
   "execution_count": 7,
   "metadata": {
    "collapsed": false
   },
   "outputs": [
    {
     "data": {
      "text/plain": [
       "54"
      ]
     },
     "execution_count": 7,
     "metadata": {},
     "output_type": "execute_result"
    }
   ],
   "source": [
    "len(polygons)"
   ]
  },
  {
   "cell_type": "code",
   "execution_count": 8,
   "metadata": {
    "collapsed": false
   },
   "outputs": [
    {
     "data": {
      "text/plain": [
       "54"
      ]
     },
     "execution_count": 8,
     "metadata": {},
     "output_type": "execute_result"
    }
   ],
   "source": [
    "len(records)"
   ]
  },
  {
   "cell_type": "code",
   "execution_count": 13,
   "metadata": {
    "collapsed": false
   },
   "outputs": [
    {
     "data": {
      "text/plain": [
       "[('DeletionFlag', 'C', 1, 0),\n",
       " ['tileName', 'C', 254, 0],\n",
       " ['fileName', 'C', 254, 0],\n",
       " ['prodDesc', 'C', 254, 0],\n",
       " ['volNum', 'C', 254, 0]]"
      ]
     },
     "execution_count": 13,
     "metadata": {},
     "output_type": "execute_result"
    }
   ],
   "source": [
    "polygons_sf.fields"
   ]
  },
  {
   "cell_type": "code",
   "execution_count": 16,
   "metadata": {
    "collapsed": false
   },
   "outputs": [],
   "source": [
    "from collections import Counter"
   ]
  },
  {
   "cell_type": "code",
   "execution_count": 21,
   "metadata": {
    "collapsed": false
   },
   "outputs": [
    {
     "data": {
      "text/plain": [
       "Counter({'SD': 54})"
      ]
     },
     "execution_count": 21,
     "metadata": {},
     "output_type": "execute_result"
    }
   ],
   "source": [
    "Counter([item[2] for item in records])"
   ]
  },
  {
   "cell_type": "code",
   "execution_count": 33,
   "metadata": {
    "collapsed": false
   },
   "outputs": [
    {
     "data": {
      "text/plain": [
       "[[-117.17532811498636, 33.05644813475931],\n",
       " [-117.17532811498636, 33.12950950061074],\n",
       " [-117.13152478637844, 33.12950950061074],\n",
       " [-117.13152478637844, 33.05644813475931],\n",
       " [-117.17532811498636, 33.05644813475931]]"
      ]
     },
     "execution_count": 33,
     "metadata": {},
     "output_type": "execute_result"
    }
   ],
   "source": [
    "polygon_points[4]"
   ]
  },
  {
   "cell_type": "markdown",
   "metadata": {},
   "source": [
    "#### compare with SANDAG polygon"
   ]
  },
  {
   "cell_type": "code",
   "execution_count": 9,
   "metadata": {
    "collapsed": true
   },
   "outputs": [],
   "source": [
    "%matplotlib inline\n",
    "import matplotlib.pyplot as plt"
   ]
  },
  {
   "cell_type": "code",
   "execution_count": 10,
   "metadata": {
    "collapsed": true
   },
   "outputs": [],
   "source": [
    "from xml.etree import ElementTree\n",
    "import keytree\n",
    "from shapely.geometry import Polygon, Point, shape\n",
    "\n",
    "doc = open(\"/Users/damoncrockett/vosd.org/215-opendsd/Final.kml\").read()\n",
    "tree = ElementTree.fromstring(doc)\n",
    "# kml namespace\n",
    "kmlns = tree.tag.split('}')[0][1:]\n",
    "# find all placemarks\n",
    "placemks = tree.findall(\".//{%s}Placemark\" % kmlns)\n",
    "# filter out those without polygon elements\n",
    "placemks_with_polygons = []\n",
    "\n",
    "for p in placemks:\n",
    "    if p.findall(\".//{%s}Polygon\" % kmlns):\n",
    "        placemks_with_polygons.append(p)\n",
    "        \n",
    "# func: extract kml LinearRings, convert to shapely LinearRings, make dict with cpa names\n",
    "\n",
    "def coords_names(placemks):\n",
    "  coords_names_dict = {}\n",
    "  for placemk in placemks:\n",
    "    name = placemk.getchildren()[0].text\n",
    "    coord_text = placemk.findtext(\".//{%s}coordinates\" % kmlns)\n",
    "    coords = []\n",
    "    for elems in coord_text.split():\n",
    "      points = elems.split(\",\")\n",
    "      coords.append((float(points[0]), float(points[1])))\n",
    "    coords_names_dict[Polygon(coords)] = name\n",
    "  return coords_names_dict\n",
    "\n",
    "# make dataframe from function\n",
    "import pandas as pd\n",
    "\n",
    "cpa_polygons = pd.DataFrame(coords_names(placemks_with_polygons).items(),\n",
    "            columns=['Polygon','CPA'])"
   ]
  },
  {
   "cell_type": "code",
   "execution_count": 41,
   "metadata": {
    "collapsed": false
   },
   "outputs": [
    {
     "data": {
      "text/html": [
       "<div>\n",
       "<table border=\"1\" class=\"dataframe\">\n",
       "  <thead>\n",
       "    <tr style=\"text-align: right;\">\n",
       "      <th></th>\n",
       "      <th>0</th>\n",
       "      <th>1</th>\n",
       "    </tr>\n",
       "  </thead>\n",
       "  <tbody>\n",
       "    <tr>\n",
       "      <th>39</th>\n",
       "      <td>RESERVE</td>\n",
       "      <td>5</td>\n",
       "    </tr>\n",
       "    <tr>\n",
       "      <th>20</th>\n",
       "      <td>MILITARY FACILITIES</td>\n",
       "      <td>3</td>\n",
       "    </tr>\n",
       "    <tr>\n",
       "      <th>11</th>\n",
       "      <td>OCEAN BEACH</td>\n",
       "      <td>2</td>\n",
       "    </tr>\n",
       "    <tr>\n",
       "      <th>0</th>\n",
       "      <td>BLACK MOUNTAIN RANCH</td>\n",
       "      <td>1</td>\n",
       "    </tr>\n",
       "    <tr>\n",
       "      <th>42</th>\n",
       "      <td>SAN YSIDRO</td>\n",
       "      <td>1</td>\n",
       "    </tr>\n",
       "  </tbody>\n",
       "</table>\n",
       "</div>"
      ],
      "text/plain": [
       "                       0  1\n",
       "39               RESERVE  5\n",
       "20   MILITARY FACILITIES  3\n",
       "11           OCEAN BEACH  2\n",
       "0   BLACK MOUNTAIN RANCH  1\n",
       "42            SAN YSIDRO  1"
      ]
     },
     "execution_count": 41,
     "metadata": {},
     "output_type": "execute_result"
    }
   ],
   "source": [
    "pd.DataFrame(Counter(cpa_polygons.CPA).items()).sort([1],ascending=False).head()"
   ]
  },
  {
   "cell_type": "code",
   "execution_count": null,
   "metadata": {
    "collapsed": true
   },
   "outputs": [],
   "source": []
  }
 ],
 "metadata": {
  "kernelspec": {
   "display_name": "Python 2",
   "language": "python",
   "name": "python2"
  },
  "language_info": {
   "codemirror_mode": {
    "name": "ipython",
    "version": 2
   },
   "file_extension": ".py",
   "mimetype": "text/x-python",
   "name": "python",
   "nbconvert_exporter": "python",
   "pygments_lexer": "ipython2",
   "version": "2.7.10"
  }
 },
 "nbformat": 4,
 "nbformat_minor": 0
}
