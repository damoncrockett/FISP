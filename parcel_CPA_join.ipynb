{
 "cells": [
  {
   "cell_type": "code",
   "execution_count": 1,
   "metadata": {
    "collapsed": true
   },
   "outputs": [],
   "source": [
    "import pandas as pd"
   ]
  },
  {
   "cell_type": "code",
   "execution_count": 2,
   "metadata": {
    "collapsed": true
   },
   "outputs": [],
   "source": [
    "df = pd.read_csv(\"./streetview_parcel_basic.csv\")"
   ]
  },
  {
   "cell_type": "code",
   "execution_count": 5,
   "metadata": {
    "collapsed": false
   },
   "outputs": [],
   "source": [
    "# collect all lat lon points from dataframe\n",
    "from shapely.geometry import Polygon, Point, shape\n",
    "\n",
    "n = len(df.index)\n",
    "locations = []\n",
    "for i in range(n):\n",
    "    point = Point(df.lon[i],df.lat[i])\n",
    "    locations.append(point)"
   ]
  },
  {
   "cell_type": "code",
   "execution_count": 8,
   "metadata": {
    "collapsed": false
   },
   "outputs": [],
   "source": [
    "from xml.etree import ElementTree\n",
    "import keytree\n",
    "\n",
    "doc = open(\"/Users/damoncrockett/Desktop/FISP/SD_CPA.kml\").read()\n",
    "tree = ElementTree.fromstring(doc)\n",
    "# kml namespace\n",
    "kmlns = tree.tag.split('}')[0][1:]\n",
    "# find all placemarks\n",
    "placemks = tree.findall(\".//{%s}Placemark\" % kmlns)\n",
    "# filter out those without polygon elements\n",
    "placemks_with_polygons = []\n",
    "\n",
    "for p in placemks:\n",
    "    if p.findall(\".//{%s}Polygon\" % kmlns):\n",
    "        placemks_with_polygons.append(p)"
   ]
  },
  {
   "cell_type": "code",
   "execution_count": 9,
   "metadata": {
    "collapsed": true
   },
   "outputs": [],
   "source": [
    "# func: extract kml LinearRings, convert to shapely LinearRings, make dict with cpa names\n",
    "\n",
    "def coords_names(placemks):\n",
    "  coords_names_dict = {}\n",
    "  for placemk in placemks:\n",
    "    name = placemk.getchildren()[0].text\n",
    "    coord_text = placemk.findtext(\".//{%s}coordinates\" % kmlns)\n",
    "    coords = []\n",
    "    for elems in coord_text.split():\n",
    "      points = elems.split(\",\")\n",
    "      coords.append((float(points[0]), float(points[1])))\n",
    "    coords_names_dict[Polygon(coords)] = name\n",
    "  return coords_names_dict"
   ]
  },
  {
   "cell_type": "code",
   "execution_count": 10,
   "metadata": {
    "collapsed": true
   },
   "outputs": [],
   "source": [
    "# make dataframe from function\n",
    "\n",
    "cpa_polygons = pd.DataFrame(coords_names(placemks_with_polygons).items(),\n",
    "            columns=['Polygon','CPA'])"
   ]
  },
  {
   "cell_type": "code",
   "execution_count": 11,
   "metadata": {
    "collapsed": true
   },
   "outputs": [],
   "source": [
    "# crucial step: build spatial index\n",
    "\n",
    "from rtree import index\n",
    "idx = index.Index()\n",
    "count = -1\n",
    "for item in cpa_polygons.Polygon:\n",
    "    count +=1\n",
    "    idx.insert(count, item.bounds)"
   ]
  },
  {
   "cell_type": "code",
   "execution_count": 12,
   "metadata": {
    "collapsed": false
   },
   "outputs": [
    {
     "name": "stdout",
     "output_type": "stream",
     "text": [
      "10000\n",
      "20000\n",
      "30000\n",
      "40000\n",
      "50000\n",
      "60000\n",
      "70000\n",
      "80000\n",
      "90000\n",
      "100000\n",
      "125000\n",
      "150000\n",
      "175000\n",
      "200000\n",
      "300000\n"
     ]
    }
   ],
   "source": [
    "# assign a cpa to each point\n",
    "\n",
    "m = len(locations)\n",
    "hoods = []\n",
    "stops = [10000,20000,30000,40000,50000,60000,70000,\n",
    "         80000,90000,100000,125000,150000,175000,\n",
    "         200000,300000]\n",
    "for i in range(m):\n",
    "    if i in stops:\n",
    "        print i\n",
    "    tmp = 'nan'\n",
    "    for j in idx.intersection((df.lon[i],df.lat[i])):\n",
    "        if locations[i].within(cpa_polygons.Polygon.loc[j]):\n",
    "            tmp = cpa_polygons.CPA[j]\n",
    "            break\n",
    "    hoods.append(tmp)"
   ]
  },
  {
   "cell_type": "code",
   "execution_count": 13,
   "metadata": {
    "collapsed": true
   },
   "outputs": [],
   "source": [
    "df['CPA'] = hoods"
   ]
  },
  {
   "cell_type": "code",
   "execution_count": 15,
   "metadata": {
    "collapsed": false
   },
   "outputs": [
    {
     "name": "stdout",
     "output_type": "stream",
     "text": [
      "<class 'pandas.core.frame.DataFrame'>\n",
      "Int64Index: 382756 entries, 0 to 382755\n",
      "Data columns (total 13 columns):\n",
      "filename      382756 non-null object\n",
      "apn           382756 non-null int64\n",
      "asr_land      382756 non-null int64\n",
      "asr_impr      382756 non-null int64\n",
      "asr_total     382756 non-null int64\n",
      "shape_area    382756 non-null float64\n",
      "unitqty       382756 non-null int64\n",
      "nucleus_zo    382756 non-null int64\n",
      "nucleus_us    382756 non-null int64\n",
      "address       382756 non-null object\n",
      "lon           382756 non-null float64\n",
      "lat           382756 non-null float64\n",
      "CPA           382756 non-null object\n",
      "dtypes: float64(3), int64(7), object(3)\n",
      "memory usage: 40.9+ MB\n"
     ]
    }
   ],
   "source": [
    "df.info()"
   ]
  },
  {
   "cell_type": "code",
   "execution_count": 14,
   "metadata": {
    "collapsed": false
   },
   "outputs": [
    {
     "data": {
      "text/plain": [
       "CLAIREMONT MESA                        26198\n",
       "MIRA MESA                              22959\n",
       "NAVAJO                                 19192\n",
       "SKYLINE-PARADISE HILLS                 16407\n",
       "DOWNTOWN                               15976\n",
       "RANCHO BERNARDO                        15719\n",
       "UNIVERSITY                             15574\n",
       "LA JOLLA                               15164\n",
       "OTAY MESA-NESTOR                       14054\n",
       "RANCHO PENASQUITOS                     13558\n",
       "PENINSULA                              13315\n",
       "UPTOWN                                 13202\n",
       "PACIFIC BEACH                          12954\n",
       "CARMEL VALLEY                          12856\n",
       "GREATER NORTH PARK                     12719\n",
       "MID-CITY:CITY HEIGHTS                  11111\n",
       "ENCANTO NEIGHBORHOODS,SOUTHEASTERN     10759\n",
       "MID-CITY:EASTERN AREA                  10498\n",
       "SOUTHEASTERN SAN DIEGO,SOUTHEASTERN     9727\n",
       "LINDA VISTA                             7392\n",
       "MISSION VALLEY                          7296\n",
       "SCRIPPS MIRAMAR RANCH                   7285\n",
       "TIERRASANTA                             6774\n",
       "SERRA MESA                              5915\n",
       "COLLEGE AREA                            5087\n",
       "OTAY MESA                               4862\n",
       "MIRAMAR RANCH NORTH                     4733\n",
       "MID-CITY:KENSINGTON-TALMADGE            4155\n",
       "MID-CITY:NORMAL HEIGHTS                 4070\n",
       "BLACK MOUNTAIN RANCH                    4049\n",
       "CARMEL MOUNTAIN RANCH                   4035\n",
       "SAN YSIDRO                              3830\n",
       "GREATER GOLDEN HILL                     3551\n",
       "SABRE SPRINGS                           3424\n",
       "OCEAN BEACH                             3290\n",
       "TORREY PINES                            3247\n",
       "KEARNY MESA                             3019\n",
       "PACIFIC HIGHLANDS RANCH                 2656\n",
       "MISSION BEACH                           2364\n",
       "TORREY HIGHLANDS                        2280\n",
       "TORREY HILLS                            1475\n",
       "RANCHO ENCANTADA                        1043\n",
       "MIDWAY-PACIFIC HIGHWAY                   936\n",
       "BARRIO LOGAN                             868\n",
       "DEL MAR MESA                             794\n",
       "MISSION BAY PARK                         474\n",
       "OLD TOWN SAN DIEGO                       407\n",
       "FAIRBANKS RANCH COUNTRY CLUB             357\n",
       "VIA DE LA VALLE                          261\n",
       "TIJUANA RIVER VALLEY                     163\n",
       "SAN PASQUAL                              145\n",
       "EAST ELLIOTT                             143\n",
       "MILITARY FACILITIES                      135\n",
       "NCFUA SUBAREA II                         115\n",
       "BALBOA PARK                               87\n",
       "nan                                       44\n",
       "RESERVE                                   34\n",
       "LOS PENASQUITOS CANYON                    19\n",
       "dtype: int64"
      ]
     },
     "execution_count": 14,
     "metadata": {},
     "output_type": "execute_result"
    }
   ],
   "source": [
    "df.CPA.value_counts()"
   ]
  },
  {
   "cell_type": "code",
   "execution_count": 17,
   "metadata": {
    "collapsed": false
   },
   "outputs": [],
   "source": [
    "df.to_csv('/Users/damoncrockett/Desktop/FISP/streetview_parcel_CPA.csv',index=False)"
   ]
  }
 ],
 "metadata": {
  "kernelspec": {
   "display_name": "Python 2",
   "language": "python",
   "name": "python2"
  },
  "language_info": {
   "codemirror_mode": {
    "name": "ipython",
    "version": 2
   },
   "file_extension": ".py",
   "mimetype": "text/x-python",
   "name": "python",
   "nbconvert_exporter": "python",
   "pygments_lexer": "ipython2",
   "version": "2.7.10"
  }
 },
 "nbformat": 4,
 "nbformat_minor": 0
}
