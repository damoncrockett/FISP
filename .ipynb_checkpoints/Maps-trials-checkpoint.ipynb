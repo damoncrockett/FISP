{
 "cells": [
  {
   "cell_type": "code",
   "execution_count": 1,
   "metadata": {
    "collapsed": true
   },
   "outputs": [],
   "source": [
    "import pandas as pd"
   ]
  },
  {
   "cell_type": "code",
   "execution_count": 2,
   "metadata": {
    "collapsed": true
   },
   "outputs": [],
   "source": [
    "df = pd.read_csv(\"./parcels_new.csv\")"
   ]
  },
  {
   "cell_type": "code",
   "execution_count": 3,
   "metadata": {
    "collapsed": false
   },
   "outputs": [
    {
     "data": {
      "text/plain": [
       "Index([u'apn', u'apn_8', u'parcelid', u'own_name1', u'own_name2', u'own_name3',\n",
       "       u'fractint', u'own_addr1', u'own_addr2', u'own_addr3', u'own_addr4',\n",
       "       u'own_zip', u'situs_juri', u'situs_stre', u'situs_suff', u'situs_post',\n",
       "       u'situs_pre_', u'situs_addr', u'situs_frac', u'situs_buil',\n",
       "       u'situs_suit', u'situs_comm', u'legldesc', u'asr_land', u'asr_impr',\n",
       "       u'asr_total', u'doctype', u'docnmbr', u'docdate', u'acreage',\n",
       "       u'taxstat', u'ownerocc', u'tranum', u'asr_zone', u'asr_landus',\n",
       "       u'unitqty', u'submap', u'subname', u'nucleus_zo', u'nucleus_us',\n",
       "       u'addrno', u'addrfrac', u'addrunit', u'roadpdir', u'roadname',\n",
       "       u'roadpostd', u'roadsfx', u'zip', u'nucleus_si', u'nucleus__1',\n",
       "       u'nucleus__2', u'situs_zip', u'x_coord', u'y_coord', u'multi',\n",
       "       u'overlay_ju', u'sub_type', u'shape_area', u'shape_len', u'address'],\n",
       "      dtype='object')"
      ]
     },
     "execution_count": 3,
     "metadata": {},
     "output_type": "execute_result"
    }
   ],
   "source": [
    "df.columns"
   ]
  },
  {
   "cell_type": "code",
   "execution_count": 24,
   "metadata": {
    "collapsed": false
   },
   "outputs": [
    {
     "data": {
      "text/plain": [
       "54948347.866099998"
      ]
     },
     "execution_count": 24,
     "metadata": {},
     "output_type": "execute_result"
    }
   ],
   "source": [
    "df.shape_area.max()"
   ]
  },
  {
   "cell_type": "code",
   "execution_count": 25,
   "metadata": {
    "collapsed": false
   },
   "outputs": [
    {
     "data": {
      "text/plain": [
       "0.00044624999999999998"
      ]
     },
     "execution_count": 25,
     "metadata": {},
     "output_type": "execute_result"
    }
   ],
   "source": [
    "df.shape_area.min()"
   ]
  },
  {
   "cell_type": "code",
   "execution_count": 26,
   "metadata": {
    "collapsed": true
   },
   "outputs": [],
   "source": [
    "%matplotlib inline"
   ]
  },
  {
   "cell_type": "code",
   "execution_count": 44,
   "metadata": {
    "collapsed": false
   },
   "outputs": [
    {
     "data": {
      "text/plain": [
       "<matplotlib.axes._subplots.AxesSubplot at 0x118e29750>"
      ]
     },
     "execution_count": 44,
     "metadata": {},
     "output_type": "execute_result"
    },
    {
     "data": {
      "image/png": "[encoded data removed]",
      "text/plain": [
       "<matplotlib.figure.Figure at 0x11811c790>"
      ]
     },
     "metadata": {},
     "output_type": "display_data"
    }
   ],
   "source": [
    "df[df.shape_area<8000].shape_area.hist(bins=55)"
   ]
  },
  {
   "cell_type": "code",
   "execution_count": 81,
   "metadata": {
    "collapsed": false
   },
   "outputs": [],
   "source": [
    "l = 11999\n",
    "r = 12001\n",
    "\n",
    "mids = df[df.shape_area>l]\n",
    "mids = mids.address[mids.shape_area<r]"
   ]
  },
  {
   "cell_type": "code",
   "execution_count": 82,
   "metadata": {
    "collapsed": false
   },
   "outputs": [
    {
     "data": {
      "text/plain": [
       "['1270    VALENCIA PKY        SAN DIEGO 92114-6534',\n",
       " '11239    LINARES ST        SAN DIEGO 92129-1019',\n",
       " '7278    MARGERUM AVE        SAN DIEGO 92120-2023',\n",
       " '4991    ALMONDWOOD WAY        SAN DIEGO 92130-2763',\n",
       " '5104    REMINGTON RD        SAN DIEGO 92115-1135',\n",
       " '5076    GREENWILLOW LN        SAN DIEGO 92130-4858',\n",
       " '3339    WICOPEE PL        SAN DIEGO 92117-4402',\n",
       " '3957    KENOSHA AVE        SAN DIEGO 92117-5305',\n",
       " '8458    SAN CARLOS DR        SAN DIEGO 92119-2640',\n",
       " '7351    PRAIRIE MOUND WAY        SAN DIEGO 92139-1310',\n",
       " '1581    GIBSON ST        SAN DIEGO 92114-2108',\n",
       " '0    PASEO DEL SUR             SAN DIEGO 92127',\n",
       " '15894    PASEO DEL SUR             SAN DIEGO 92127-4186',\n",
       " '5976    CROW CT        SAN DIEGO 92120-2005',\n",
       " '7634    MEADOWBROOK CT        SAN DIEGO 92114-4716',\n",
       " '17796    VIA GRACIA             SAN DIEGO 92128-1247']"
      ]
     },
     "execution_count": 82,
     "metadata": {},
     "output_type": "execute_result"
    }
   ],
   "source": [
    "list(mids)"
   ]
  },
  {
   "cell_type": "markdown",
   "metadata": {},
   "source": [
    "Ok when you zoom out one integer in Google Maps, you double the length and width of the area, so you quadruple the area. So, my default zoom is 21, since that is the closest you can get. Say that the 'normal' land area is 5,000, and if some lot is at least 20,000, then we will zoom out, and if it's 80,000, we zoom out again, and so forth.\n",
    "\n",
    "Or maybe we can do it coarsely with the download, and then crop very carefully according to land area. One issue is that the map center is always on the street, not in the center of the lot. But I think we can do this well."
   ]
  },
  {
   "cell_type": "code",
   "execution_count": 83,
   "metadata": {
    "collapsed": true
   },
   "outputs": [],
   "source": [
    "import requests\n",
    "import shutil\n",
    "\n",
    "BASEPATH = \"/Users/damoncrockett/Desktop/FISP/GSM/\"\n",
    "BASEURL = \"https://maps.googleapis.com/maps/api/staticmap?\"\n",
    "KEY= <redacted>\n",
    "SIZE=\"size=640x640&\"\n",
    "TYPE=\"maptype=satellite&\""
   ]
  },
  {
   "cell_type": "code",
   "execution_count": 84,
   "metadata": {
    "collapsed": true
   },
   "outputs": [],
   "source": [
    "fovs = [21]"
   ]
  },
  {
   "cell_type": "code",
   "execution_count": 85,
   "metadata": {
    "collapsed": false
   },
   "outputs": [],
   "source": [
    "counter = -1\n",
    "for mid in list(mids):\n",
    "    for fov in fovs:\n",
    "        loc_param = mid\n",
    "        filestring = mid\n",
    "        path = BASEPATH+str(fov)+\"/\"+filestring+\".png\"\n",
    "        try:\n",
    "            r = requests.get(BASEURL+KEY+SIZE+TYPE+\"zoom=\"+str(fov)+\"&\"+\"center=\"+loc_param,stream=True)\n",
    "            if r.status_code == 200:\n",
    "                with open(path, 'wb') as f:\n",
    "                    r.raw.decode_content = True\n",
    "                    shutil.copyfileobj(r.raw, f)\n",
    "        except:\n",
    "            print 'err'"
   ]
  },
  {
   "cell_type": "code",
   "execution_count": null,
   "metadata": {
    "collapsed": true
   },
   "outputs": [],
   "source": []
  }
 ],
 "metadata": {
  "kernelspec": {
   "display_name": "Python 2",
   "language": "python",
   "name": "python2"
  },
  "language_info": {
   "codemirror_mode": {
    "name": "ipython",
    "version": 2
   },
   "file_extension": ".py",
   "mimetype": "text/x-python",
   "name": "python",
   "nbconvert_exporter": "python",
   "pygments_lexer": "ipython2",
   "version": "2.7.10"
  }
 },
 "nbformat": 4,
 "nbformat_minor": 0
}
