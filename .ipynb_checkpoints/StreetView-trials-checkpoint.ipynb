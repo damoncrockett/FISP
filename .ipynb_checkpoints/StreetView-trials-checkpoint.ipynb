{
 "cells": [
  {
   "cell_type": "code",
   "execution_count": 1,
   "metadata": {
    "collapsed": true
   },
   "outputs": [],
   "source": [
    "import pandas as pd\n",
    "import shapefile\n",
    "import shapely"
   ]
  },
  {
   "cell_type": "markdown",
   "metadata": {},
   "source": [
    "First we need the parcel data..."
   ]
  },
  {
   "cell_type": "code",
   "execution_count": 4,
   "metadata": {
    "collapsed": true
   },
   "outputs": [],
   "source": [
    "polygons_sf = shapefile.Reader(\"/Users/damoncrockett/Desktop/FISP/SanGIS/Parcels/PARCELS.shp\")\n",
    "polygon_shapes = polygons_sf.shapes()\n",
    "polygon_points = [q.points for q in polygon_shapes]\n",
    "from shapely.geometry import Polygon, Point\n",
    "polygons = [Polygon(q) for q in polygon_points]"
   ]
  },
  {
   "cell_type": "code",
   "execution_count": 6,
   "metadata": {
    "collapsed": false
   },
   "outputs": [
    {
     "data": {
      "text/plain": [
       "1056464"
      ]
     },
     "execution_count": 6,
     "metadata": {},
     "output_type": "execute_result"
    }
   ],
   "source": [
    "len(polygons)"
   ]
  },
  {
   "cell_type": "markdown",
   "metadata": {},
   "source": [
    "These are all the parcels in the county."
   ]
  },
  {
   "cell_type": "code",
   "execution_count": 7,
   "metadata": {
    "collapsed": true
   },
   "outputs": [],
   "source": [
    "records = polygons_sf.records()"
   ]
  },
  {
   "cell_type": "code",
   "execution_count": 17,
   "metadata": {
    "collapsed": false
   },
   "outputs": [],
   "source": [
    "cities = []\n",
    "\n",
    "for record in records:\n",
    "    cities.append(record[21])"
   ]
  },
  {
   "cell_type": "code",
   "execution_count": 24,
   "metadata": {
    "collapsed": false
   },
   "outputs": [
    {
     "data": {
      "text/html": [
       "<div>\n",
       "<table border=\"1\" class=\"dataframe\">\n",
       "  <thead>\n",
       "    <tr style=\"text-align: right;\">\n",
       "      <th></th>\n",
       "      <th>0</th>\n",
       "      <th>1</th>\n",
       "    </tr>\n",
       "  </thead>\n",
       "  <tbody>\n",
       "    <tr>\n",
       "      <th>19</th>\n",
       "      <td>SAN DIEGO</td>\n",
       "      <td>360341</td>\n",
       "    </tr>\n",
       "    <tr>\n",
       "      <th>67</th>\n",
       "      <td>ESCONDIDO</td>\n",
       "      <td>76938</td>\n",
       "    </tr>\n",
       "    <tr>\n",
       "      <th>12</th>\n",
       "      <td>CARLSBAD</td>\n",
       "      <td>75026</td>\n",
       "    </tr>\n",
       "    <tr>\n",
       "      <th>72</th>\n",
       "      <td>CHULA VISTA</td>\n",
       "      <td>64232</td>\n",
       "    </tr>\n",
       "    <tr>\n",
       "      <th>55</th>\n",
       "      <td>OCEANSIDE</td>\n",
       "      <td>60425</td>\n",
       "    </tr>\n",
       "  </tbody>\n",
       "</table>\n",
       "</div>"
      ],
      "text/plain": [
       "              0       1\n",
       "19    SAN DIEGO  360341\n",
       "67    ESCONDIDO   76938\n",
       "12     CARLSBAD   75026\n",
       "72  CHULA VISTA   64232\n",
       "55    OCEANSIDE   60425"
      ]
     },
     "execution_count": 24,
     "metadata": {},
     "output_type": "execute_result"
    }
   ],
   "source": [
    "from collections import Counter\n",
    "pd.DataFrame(Counter(cities).items()).sort([1],ascending=False).head()"
   ]
  },
  {
   "cell_type": "code",
   "execution_count": 25,
   "metadata": {
    "collapsed": true
   },
   "outputs": [],
   "source": [
    "sd = []\n",
    "for record in records:\n",
    "    if record[21]=='SAN DIEGO':\n",
    "        sd.append(record)"
   ]
  },
  {
   "cell_type": "code",
   "execution_count": 29,
   "metadata": {
    "collapsed": false
   },
   "outputs": [
    {
     "name": "stdout",
     "output_type": "stream",
     "text": [
      "POWAY\n",
      "SAN DIEGO\n",
      "SOLANA BEACH\n",
      "CHULA VISTA\n",
      "SAN DIEGO\n"
     ]
    }
   ],
   "source": [
    "for record in records[:5]:\n",
    "    print record[21]"
   ]
  },
  {
   "cell_type": "code",
   "execution_count": 32,
   "metadata": {
    "collapsed": false
   },
   "outputs": [],
   "source": [
    "lot = polygons[1]"
   ]
  },
  {
   "cell_type": "code",
   "execution_count": 33,
   "metadata": {
    "collapsed": false
   },
   "outputs": [
    {
     "data": {
      "image/svg+xml": [
       "<svg xmlns=\"http://www.w3.org/2000/svg\" xmlns:xlink=\"http://www.w3.org/1999/xlink\" width=\"100.0\" height=\"100.0\" viewBox=\"6301250.73836 1881239.69436 89.2522800025 62.6922800005\" preserveAspectRatio=\"xMinYMin meet\"><g transform=\"matrix(1,0,0,-1,0,3762542.081)\"><path fill-rule=\"evenodd\" fill=\"#66cc99\" stroke=\"#555555\" stroke-width=\"1.78504560005\" opacity=\"0.6\" d=\"M 6301261.526,1881299.081 L 6301336.685,1881285.879 L 6301330.0,1881248.0 L 6301323.0,1881243.0 L 6301254.044,1881255.259 L 6301261.526,1881299.081 z\" /></g></svg>"
      ],
      "text/plain": [
       "<shapely.geometry.polygon.Polygon at 0x295628750>"
      ]
     },
     "execution_count": 33,
     "metadata": {},
     "output_type": "execute_result"
    }
   ],
   "source": [
    "lot"
   ]
  },
  {
   "cell_type": "code",
   "execution_count": 35,
   "metadata": {
    "collapsed": false
   },
   "outputs": [
    {
     "name": "stdout",
     "output_type": "stream",
     "text": [
      "POINT (6301295.145167537 1881270.693134048)\n"
     ]
    }
   ],
   "source": [
    "print lot.centroid"
   ]
  },
  {
   "cell_type": "markdown",
   "metadata": {},
   "source": [
    "Crap. These are state plane coordinates (northing and easting, in feet), not lat longs. Converting is nontrivial and subject to error. These coordinates are NAD83, CA zone 6 (0406).\n",
    "\n",
    "But they'd need to be converted to web-mercator geodedtic lat longs (since that's what Google uses), and I'm not 100% sure how to do that without error. And in fact, even if we had that, for, say, the parcel centroids, Google would have to snap to the nearest lat long ON THE STREET.\n",
    "\n",
    "This is crucial: Ideally, I think, maybe we should have the panoramic view from the parcel centroid, but GSV cannot provide that, since it only gives views from the street. Instead, I think we should use the 'curb' view of each parcel. Maybe we can pan a bit left and right, or yaw a bit up and down, but I can't think of a better way to get the visual aspect of a parcel.\n",
    "\n",
    "Let's see how many parcels have street addresses."
   ]
  },
  {
   "cell_type": "code",
   "execution_count": 2,
   "metadata": {
    "collapsed": true
   },
   "outputs": [],
   "source": [
    "from pandas.io import sql\n",
    "from sqlalchemy import create_engine"
   ]
  },
  {
   "cell_type": "code",
   "execution_count": 3,
   "metadata": {
    "collapsed": true
   },
   "outputs": [],
   "source": [
    "engine = create_engine('sqlite:////Users/damoncrockett/Dropbox/thinkpad_desktop_2/assessor-db/parcels.geodb')"
   ]
  },
  {
   "cell_type": "code",
   "execution_count": 4,
   "metadata": {
    "collapsed": true
   },
   "outputs": [],
   "source": [
    "dd = sql.read_sql(\"SELECT * FROM parcels\", engine)"
   ]
  },
  {
   "cell_type": "code",
   "execution_count": 5,
   "metadata": {
    "collapsed": false
   },
   "outputs": [],
   "source": [
    "dd = dd[dd.situs_juri=='SD']"
   ]
  },
  {
   "cell_type": "code",
   "execution_count": 6,
   "metadata": {
    "collapsed": false
   },
   "outputs": [],
   "source": [
    "dd.reset_index(drop=True,inplace=True)"
   ]
  },
  {
   "cell_type": "code",
   "execution_count": 7,
   "metadata": {
    "collapsed": false
   },
   "outputs": [],
   "source": [
    "l = list(dd.columns[dd.columns.str.contains('situs')])"
   ]
  },
  {
   "cell_type": "code",
   "execution_count": 8,
   "metadata": {
    "collapsed": false
   },
   "outputs": [],
   "source": [
    "addr = dd[l]"
   ]
  },
  {
   "cell_type": "code",
   "execution_count": 9,
   "metadata": {
    "collapsed": false
   },
   "outputs": [],
   "source": [
    "import numpy as np"
   ]
  },
  {
   "cell_type": "code",
   "execution_count": 10,
   "metadata": {
    "collapsed": false
   },
   "outputs": [
    {
     "data": {
      "text/plain": [
       "0.038490124037155994"
      ]
     },
     "execution_count": 10,
     "metadata": {},
     "output_type": "execute_result"
    }
   ],
   "source": [
    "np.mean(addr.situs_addr==0)"
   ]
  },
  {
   "cell_type": "code",
   "execution_count": 11,
   "metadata": {
    "collapsed": false
   },
   "outputs": [
    {
     "data": {
      "text/plain": [
       "1.0"
      ]
     },
     "execution_count": 11,
     "metadata": {},
     "output_type": "execute_result"
    }
   ],
   "source": [
    "np.mean(addr.situs_addr.map(lambda x:isinstance(x, (int, long))))"
   ]
  },
  {
   "cell_type": "markdown",
   "metadata": {},
   "source": [
    "Okay so we lose maybe 4% of parcels in San Diego---not bad. Now let's build some full addresses to pass as parameters in our GSV API calls."
   ]
  },
  {
   "cell_type": "code",
   "execution_count": 12,
   "metadata": {
    "collapsed": true
   },
   "outputs": [],
   "source": [
    "addr = addr[addr.situs_addr!=0]\n",
    "addr.reset_index(drop=True,inplace=True)"
   ]
  },
  {
   "cell_type": "code",
   "execution_count": 13,
   "metadata": {
    "collapsed": false
   },
   "outputs": [
    {
     "data": {
      "text/html": [
       "<div>\n",
       "<table border=\"1\" class=\"dataframe\">\n",
       "  <thead>\n",
       "    <tr style=\"text-align: right;\">\n",
       "      <th></th>\n",
       "      <th>situs_juri</th>\n",
       "      <th>situs_stre</th>\n",
       "      <th>situs_suff</th>\n",
       "      <th>situs_post</th>\n",
       "      <th>situs_pre_</th>\n",
       "      <th>situs_addr</th>\n",
       "      <th>situs_frac</th>\n",
       "      <th>situs_buil</th>\n",
       "      <th>situs_suit</th>\n",
       "      <th>situs_comm</th>\n",
       "      <th>situs_zip</th>\n",
       "    </tr>\n",
       "  </thead>\n",
       "  <tbody>\n",
       "    <tr>\n",
       "      <th>0</th>\n",
       "      <td>SD</td>\n",
       "      <td>GRAVILLA</td>\n",
       "      <td>PL</td>\n",
       "      <td>None</td>\n",
       "      <td>None</td>\n",
       "      <td>657</td>\n",
       "      <td>None</td>\n",
       "      <td>None</td>\n",
       "      <td>None</td>\n",
       "      <td>None</td>\n",
       "      <td>92037-6131</td>\n",
       "    </tr>\n",
       "    <tr>\n",
       "      <th>1</th>\n",
       "      <td>SD</td>\n",
       "      <td>EADS</td>\n",
       "      <td>AVE</td>\n",
       "      <td>None</td>\n",
       "      <td>None</td>\n",
       "      <td>7550</td>\n",
       "      <td>None</td>\n",
       "      <td>None</td>\n",
       "      <td>408</td>\n",
       "      <td>None</td>\n",
       "      <td>92037-4812</td>\n",
       "    </tr>\n",
       "    <tr>\n",
       "      <th>2</th>\n",
       "      <td>SD</td>\n",
       "      <td>EADS</td>\n",
       "      <td>AVE</td>\n",
       "      <td>None</td>\n",
       "      <td>None</td>\n",
       "      <td>7560</td>\n",
       "      <td>None</td>\n",
       "      <td>None</td>\n",
       "      <td>02</td>\n",
       "      <td>None</td>\n",
       "      <td>92037-4882</td>\n",
       "    </tr>\n",
       "    <tr>\n",
       "      <th>3</th>\n",
       "      <td>SD</td>\n",
       "      <td>AVENIDA CHAMNEZ</td>\n",
       "      <td>None</td>\n",
       "      <td>None</td>\n",
       "      <td>None</td>\n",
       "      <td>6092</td>\n",
       "      <td>None</td>\n",
       "      <td>None</td>\n",
       "      <td>None</td>\n",
       "      <td>None</td>\n",
       "      <td>92037-7403</td>\n",
       "    </tr>\n",
       "    <tr>\n",
       "      <th>4</th>\n",
       "      <td>SD</td>\n",
       "      <td>GRAVILLA</td>\n",
       "      <td>PL</td>\n",
       "      <td>None</td>\n",
       "      <td>None</td>\n",
       "      <td>633</td>\n",
       "      <td>None</td>\n",
       "      <td>None</td>\n",
       "      <td>None</td>\n",
       "      <td>None</td>\n",
       "      <td>92037-6131</td>\n",
       "    </tr>\n",
       "  </tbody>\n",
       "</table>\n",
       "</div>"
      ],
      "text/plain": [
       "  situs_juri       situs_stre situs_suff situs_post situs_pre_  situs_addr  \\\n",
       "0         SD         GRAVILLA         PL       None       None         657   \n",
       "1         SD             EADS        AVE       None       None        7550   \n",
       "2         SD             EADS        AVE       None       None        7560   \n",
       "3         SD  AVENIDA CHAMNEZ       None       None       None        6092   \n",
       "4         SD         GRAVILLA         PL       None       None         633   \n",
       "\n",
       "  situs_frac situs_buil situs_suit situs_comm   situs_zip  \n",
       "0       None       None       None       None  92037-6131  \n",
       "1       None       None        408       None  92037-4812  \n",
       "2       None       None         02       None  92037-4882  \n",
       "3       None       None       None       None  92037-7403  \n",
       "4       None       None       None       None  92037-6131  "
      ]
     },
     "execution_count": 13,
     "metadata": {},
     "output_type": "execute_result"
    }
   ],
   "source": [
    "addr.head()"
   ]
  },
  {
   "cell_type": "code",
   "execution_count": 14,
   "metadata": {
    "collapsed": false
   },
   "outputs": [
    {
     "data": {
      "text/plain": [
       "situs_juri    0.000000\n",
       "situs_stre    0.000000\n",
       "situs_suff    0.114608\n",
       "situs_post    0.994980\n",
       "situs_pre_    0.969616\n",
       "situs_addr    0.000000\n",
       "situs_frac    0.998771\n",
       "situs_buil    1.000000\n",
       "situs_suit    0.770756\n",
       "situs_comm    1.000000\n",
       "situs_zip     0.010308\n",
       "dtype: float64"
      ]
     },
     "execution_count": 14,
     "metadata": {},
     "output_type": "execute_result"
    }
   ],
   "source": [
    "np.mean(addr.isnull())"
   ]
  },
  {
   "cell_type": "code",
   "execution_count": 15,
   "metadata": {
    "collapsed": true
   },
   "outputs": [],
   "source": [
    "del addr['situs_buil']\n",
    "del addr['situs_comm']"
   ]
  },
  {
   "cell_type": "code",
   "execution_count": 16,
   "metadata": {
    "collapsed": false
   },
   "outputs": [
    {
     "data": {
      "text/html": [
       "<div>\n",
       "<table border=\"1\" class=\"dataframe\">\n",
       "  <thead>\n",
       "    <tr style=\"text-align: right;\">\n",
       "      <th></th>\n",
       "      <th>situs_juri</th>\n",
       "      <th>situs_stre</th>\n",
       "      <th>situs_suff</th>\n",
       "      <th>situs_post</th>\n",
       "      <th>situs_pre_</th>\n",
       "      <th>situs_addr</th>\n",
       "      <th>situs_frac</th>\n",
       "      <th>situs_suit</th>\n",
       "      <th>situs_zip</th>\n",
       "    </tr>\n",
       "  </thead>\n",
       "  <tbody>\n",
       "    <tr>\n",
       "      <th>468</th>\n",
       "      <td>SD</td>\n",
       "      <td>LAUREL</td>\n",
       "      <td>ST</td>\n",
       "      <td>W</td>\n",
       "      <td>None</td>\n",
       "      <td>979</td>\n",
       "      <td>None</td>\n",
       "      <td>None</td>\n",
       "      <td>92101-1224</td>\n",
       "    </tr>\n",
       "    <tr>\n",
       "      <th>469</th>\n",
       "      <td>SD</td>\n",
       "      <td>LAUREL</td>\n",
       "      <td>ST</td>\n",
       "      <td>W</td>\n",
       "      <td>None</td>\n",
       "      <td>985</td>\n",
       "      <td>None</td>\n",
       "      <td>None</td>\n",
       "      <td>92101-1224</td>\n",
       "    </tr>\n",
       "    <tr>\n",
       "      <th>622</th>\n",
       "      <td>SD</td>\n",
       "      <td>HOTEL</td>\n",
       "      <td>CIR</td>\n",
       "      <td>S</td>\n",
       "      <td>None</td>\n",
       "      <td>1605</td>\n",
       "      <td>None</td>\n",
       "      <td>B116</td>\n",
       "      <td>92108-3327</td>\n",
       "    </tr>\n",
       "    <tr>\n",
       "      <th>623</th>\n",
       "      <td>SD</td>\n",
       "      <td>HOTEL</td>\n",
       "      <td>CIR</td>\n",
       "      <td>S</td>\n",
       "      <td>None</td>\n",
       "      <td>1621</td>\n",
       "      <td>None</td>\n",
       "      <td>E315</td>\n",
       "      <td>92108-3342</td>\n",
       "    </tr>\n",
       "    <tr>\n",
       "      <th>624</th>\n",
       "      <td>SD</td>\n",
       "      <td>HOTEL</td>\n",
       "      <td>CIR</td>\n",
       "      <td>S</td>\n",
       "      <td>None</td>\n",
       "      <td>1621</td>\n",
       "      <td>None</td>\n",
       "      <td>E320</td>\n",
       "      <td>92108-3342</td>\n",
       "    </tr>\n",
       "  </tbody>\n",
       "</table>\n",
       "</div>"
      ],
      "text/plain": [
       "    situs_juri situs_stre situs_suff situs_post situs_pre_  situs_addr  \\\n",
       "468         SD     LAUREL         ST          W       None         979   \n",
       "469         SD     LAUREL         ST          W       None         985   \n",
       "622         SD      HOTEL        CIR          S       None        1605   \n",
       "623         SD      HOTEL        CIR          S       None        1621   \n",
       "624         SD      HOTEL        CIR          S       None        1621   \n",
       "\n",
       "    situs_frac situs_suit   situs_zip  \n",
       "468       None       None  92101-1224  \n",
       "469       None       None  92101-1224  \n",
       "622       None       B116  92108-3327  \n",
       "623       None       E315  92108-3342  \n",
       "624       None       E320  92108-3342  "
      ]
     },
     "execution_count": 16,
     "metadata": {},
     "output_type": "execute_result"
    }
   ],
   "source": [
    "addr[addr.situs_post.notnull()].head()"
   ]
  },
  {
   "cell_type": "code",
   "execution_count": 17,
   "metadata": {
    "collapsed": false
   },
   "outputs": [
    {
     "data": {
      "text/html": [
       "<div>\n",
       "<table border=\"1\" class=\"dataframe\">\n",
       "  <thead>\n",
       "    <tr style=\"text-align: right;\">\n",
       "      <th></th>\n",
       "      <th>situs_juri</th>\n",
       "      <th>situs_stre</th>\n",
       "      <th>situs_suff</th>\n",
       "      <th>situs_post</th>\n",
       "      <th>situs_pre_</th>\n",
       "      <th>situs_addr</th>\n",
       "      <th>situs_frac</th>\n",
       "      <th>situs_suit</th>\n",
       "      <th>situs_zip</th>\n",
       "    </tr>\n",
       "  </thead>\n",
       "  <tbody>\n",
       "    <tr>\n",
       "      <th>67</th>\n",
       "      <td>SD</td>\n",
       "      <td>33RD</td>\n",
       "      <td>ST</td>\n",
       "      <td>None</td>\n",
       "      <td>S</td>\n",
       "      <td>128</td>\n",
       "      <td>1/2</td>\n",
       "      <td>None</td>\n",
       "      <td>92113-1562</td>\n",
       "    </tr>\n",
       "    <tr>\n",
       "      <th>72</th>\n",
       "      <td>SD</td>\n",
       "      <td>WILLIE JAMES JONES</td>\n",
       "      <td>AVE</td>\n",
       "      <td>None</td>\n",
       "      <td>N</td>\n",
       "      <td>202</td>\n",
       "      <td>None</td>\n",
       "      <td>None</td>\n",
       "      <td>92102-5000</td>\n",
       "    </tr>\n",
       "    <tr>\n",
       "      <th>76</th>\n",
       "      <td>SD</td>\n",
       "      <td>35TH</td>\n",
       "      <td>ST</td>\n",
       "      <td>None</td>\n",
       "      <td>S</td>\n",
       "      <td>303</td>\n",
       "      <td>None</td>\n",
       "      <td>None</td>\n",
       "      <td>92113-1607</td>\n",
       "    </tr>\n",
       "    <tr>\n",
       "      <th>77</th>\n",
       "      <td>SD</td>\n",
       "      <td>35TH</td>\n",
       "      <td>ST</td>\n",
       "      <td>None</td>\n",
       "      <td>S</td>\n",
       "      <td>327</td>\n",
       "      <td>None</td>\n",
       "      <td>None</td>\n",
       "      <td>92113-1607</td>\n",
       "    </tr>\n",
       "    <tr>\n",
       "      <th>78</th>\n",
       "      <td>SD</td>\n",
       "      <td>32ND</td>\n",
       "      <td>ST</td>\n",
       "      <td>None</td>\n",
       "      <td>S</td>\n",
       "      <td>115</td>\n",
       "      <td>None</td>\n",
       "      <td>None</td>\n",
       "      <td>92113-1416</td>\n",
       "    </tr>\n",
       "  </tbody>\n",
       "</table>\n",
       "</div>"
      ],
      "text/plain": [
       "   situs_juri          situs_stre situs_suff situs_post situs_pre_  \\\n",
       "67         SD                33RD         ST       None          S   \n",
       "72         SD  WILLIE JAMES JONES        AVE       None          N   \n",
       "76         SD                35TH         ST       None          S   \n",
       "77         SD                35TH         ST       None          S   \n",
       "78         SD                32ND         ST       None          S   \n",
       "\n",
       "    situs_addr situs_frac situs_suit   situs_zip  \n",
       "67         128        1/2       None  92113-1562  \n",
       "72         202       None       None  92102-5000  \n",
       "76         303       None       None  92113-1607  \n",
       "77         327       None       None  92113-1607  \n",
       "78         115       None       None  92113-1416  "
      ]
     },
     "execution_count": 17,
     "metadata": {},
     "output_type": "execute_result"
    }
   ],
   "source": [
    "addr[addr.situs_pre_.notnull()].head()"
   ]
  },
  {
   "cell_type": "code",
   "execution_count": 18,
   "metadata": {
    "collapsed": false
   },
   "outputs": [
    {
     "data": {
      "text/html": [
       "<div>\n",
       "<table border=\"1\" class=\"dataframe\">\n",
       "  <thead>\n",
       "    <tr style=\"text-align: right;\">\n",
       "      <th></th>\n",
       "      <th>situs_juri</th>\n",
       "      <th>situs_stre</th>\n",
       "      <th>situs_suff</th>\n",
       "      <th>situs_post</th>\n",
       "      <th>situs_pre_</th>\n",
       "      <th>situs_addr</th>\n",
       "      <th>situs_frac</th>\n",
       "      <th>situs_suit</th>\n",
       "      <th>situs_zip</th>\n",
       "    </tr>\n",
       "  </thead>\n",
       "  <tbody>\n",
       "    <tr>\n",
       "      <th>1</th>\n",
       "      <td>SD</td>\n",
       "      <td>EADS</td>\n",
       "      <td>AVE</td>\n",
       "      <td>None</td>\n",
       "      <td>None</td>\n",
       "      <td>7550</td>\n",
       "      <td>None</td>\n",
       "      <td>408</td>\n",
       "      <td>92037-4812</td>\n",
       "    </tr>\n",
       "    <tr>\n",
       "      <th>2</th>\n",
       "      <td>SD</td>\n",
       "      <td>EADS</td>\n",
       "      <td>AVE</td>\n",
       "      <td>None</td>\n",
       "      <td>None</td>\n",
       "      <td>7560</td>\n",
       "      <td>None</td>\n",
       "      <td>02</td>\n",
       "      <td>92037-4882</td>\n",
       "    </tr>\n",
       "    <tr>\n",
       "      <th>6</th>\n",
       "      <td>SD</td>\n",
       "      <td>GENTER</td>\n",
       "      <td>ST</td>\n",
       "      <td>None</td>\n",
       "      <td>None</td>\n",
       "      <td>1001</td>\n",
       "      <td>None</td>\n",
       "      <td>6H</td>\n",
       "      <td>92037-5526</td>\n",
       "    </tr>\n",
       "    <tr>\n",
       "      <th>7</th>\n",
       "      <td>SD</td>\n",
       "      <td>GENTER</td>\n",
       "      <td>ST</td>\n",
       "      <td>None</td>\n",
       "      <td>None</td>\n",
       "      <td>1001</td>\n",
       "      <td>None</td>\n",
       "      <td>7A</td>\n",
       "      <td>92037-5526</td>\n",
       "    </tr>\n",
       "    <tr>\n",
       "      <th>15</th>\n",
       "      <td>SD</td>\n",
       "      <td>ADOBE FALLS</td>\n",
       "      <td>RD</td>\n",
       "      <td>None</td>\n",
       "      <td>None</td>\n",
       "      <td>5747</td>\n",
       "      <td>None</td>\n",
       "      <td>B</td>\n",
       "      <td>92120-4670</td>\n",
       "    </tr>\n",
       "  </tbody>\n",
       "</table>\n",
       "</div>"
      ],
      "text/plain": [
       "   situs_juri   situs_stre situs_suff situs_post situs_pre_  situs_addr  \\\n",
       "1          SD         EADS        AVE       None       None        7550   \n",
       "2          SD         EADS        AVE       None       None        7560   \n",
       "6          SD       GENTER         ST       None       None        1001   \n",
       "7          SD       GENTER         ST       None       None        1001   \n",
       "15         SD  ADOBE FALLS         RD       None       None        5747   \n",
       "\n",
       "   situs_frac situs_suit   situs_zip  \n",
       "1        None        408  92037-4812  \n",
       "2        None         02  92037-4882  \n",
       "6        None         6H  92037-5526  \n",
       "7        None         7A  92037-5526  \n",
       "15       None          B  92120-4670  "
      ]
     },
     "execution_count": 18,
     "metadata": {},
     "output_type": "execute_result"
    }
   ],
   "source": [
    "addr[addr.situs_suit.notnull()].head()"
   ]
  },
  {
   "cell_type": "code",
   "execution_count": 21,
   "metadata": {
    "collapsed": false
   },
   "outputs": [],
   "source": [
    "addresses = []\n",
    "for i in range(50):\n",
    "    if addr.situs_addr.loc[i]!=None:\n",
    "        a = str(addr.situs_addr.loc[i])\n",
    "    else:\n",
    "        a = ''\n",
    "    if addr.situs_pre_.loc[i]!=None:\n",
    "        b = addr.situs_pre_.loc[i]\n",
    "    else:\n",
    "        b = ''\n",
    "    if addr.situs_stre.loc[i]!=None:\n",
    "        c = addr.situs_stre.loc[i]\n",
    "    else:\n",
    "        c = ''\n",
    "    if addr.situs_suff.loc[i]!=None:\n",
    "        d = addr.situs_suff.loc[i]\n",
    "    else:\n",
    "        d = ''\n",
    "    if addr.situs_post.loc[i]!=None:\n",
    "        e = addr.situs_post.loc[i]\n",
    "    else:\n",
    "        e = ''\n",
    "    if addr.situs_frac.loc[i]!=None:\n",
    "        f = addr.situs_frac.loc[i]\n",
    "    else:\n",
    "        f = ''\n",
    "    g = 'SAN DIEGO'\n",
    "    if addr.situs_zip.loc[i]!=None:\n",
    "        h = str(addr.situs_zip.loc[i])\n",
    "    else:\n",
    "        h = ''\n",
    "    tmp = a+' '+b+' '+c+' '+d+' '+e+' '+f+' '+g+' '+h\n",
    "    addresses.append(tmp)"
   ]
  },
  {
   "cell_type": "code",
   "execution_count": 22,
   "metadata": {
    "collapsed": false
   },
   "outputs": [
    {
     "data": {
      "text/plain": [
       "[u'657  GRAVILLA PL   SAN DIEGO 92037-6131',\n",
       " u'7550  EADS AVE   SAN DIEGO 92037-4812',\n",
       " u'7560  EADS AVE   SAN DIEGO 92037-4882',\n",
       " u'6092  AVENIDA CHAMNEZ    SAN DIEGO 92037-7403',\n",
       " u'633  GRAVILLA PL   SAN DIEGO 92037-6131',\n",
       " u'655  GRAVILLA PL   SAN DIEGO 92037-6131',\n",
       " u'1001  GENTER ST   SAN DIEGO 92037-5526',\n",
       " u'1001  GENTER ST   SAN DIEGO 92037-5526',\n",
       " u'321  COAST BLVD   SAN DIEGO 92037-4628',\n",
       " u'7510  CLAIREMONT MESA BLVD   SAN DIEGO 92111-1539',\n",
       " u'8075  BALBOA AVE   SAN DIEGO 92111-2416',\n",
       " u'8929  IDYLLWILD LN   SAN DIEGO 92119-2111',\n",
       " u'4891  ELSA RD   SAN DIEGO 92120-4221',\n",
       " u'4901  ELSA RD   SAN DIEGO 92120-4212',\n",
       " u'5778  THETA PL   SAN DIEGO 92120-4644',\n",
       " u'5747  ADOBE FALLS RD   SAN DIEGO 92120-4670',\n",
       " u'8905  IDYLLWILD LN   SAN DIEGO 92119-2111',\n",
       " u'5942  QUIET SLOPE DR   SAN DIEGO 92120-2021',\n",
       " u'8662  WARMWELL DR   SAN DIEGO 92119-1425',\n",
       " u'6665  MISSION GORGE RD   SAN DIEGO 92120-2316',\n",
       " u'7920  ENGINEER RD   SAN DIEGO 92111-1904',\n",
       " u'7976  ENGINEER RD   SAN DIEGO 92111-1935',\n",
       " u'7905  ENGINEER RD   SAN DIEGO 92111-1903',\n",
       " u'4481  CHAMPLAIN WAY   SAN DIEGO 92117-1912',\n",
       " u'7447  BARKER WAY   SAN DIEGO 92119-1323',\n",
       " u'8079  LAKE CAYUGA DR   SAN DIEGO 92119-3140',\n",
       " u'4818  LEHRER DR   SAN DIEGO 92117-1360',\n",
       " u'6442  LAKE BADIN AVE   SAN DIEGO 92119-3123',\n",
       " u'5972  QUIET SLOPE DR   SAN DIEGO 92120-2021',\n",
       " u'5930  QUIET SLOPE DR   SAN DIEGO 92120-2021',\n",
       " u'8682  WARMWELL DR   SAN DIEGO 92119-1425',\n",
       " u'6635  RENKRIB AVE   SAN DIEGO 92119-1815',\n",
       " u'6604  ESTRELLA AVE   SAN DIEGO 92120-1009',\n",
       " u'6844  ESTRELLA AVE   SAN DIEGO 92120-1013',\n",
       " u'5955  ARBOLES ST   SAN DIEGO 92120-3701',\n",
       " u'6195  LAMBDA DR   SAN DIEGO 92120-4615',\n",
       " u'6102  DEL CERRO BLVD   SAN DIEGO 92120-4602',\n",
       " u'6101  DEL CERRO BLVD   SAN DIEGO 92120-4601',\n",
       " u'6164  WENRICH DR   SAN DIEGO 92120-3719',\n",
       " u'643  FERN GLN   SAN DIEGO 92037-5419',\n",
       " u'5152  REBEL RD   SAN DIEGO 92117-1221',\n",
       " u'6658  AVENIDA ANDORRA    SAN DIEGO 92037-6402',\n",
       " u'6688  AVENIDA ANDORRA    SAN DIEGO 92037-6402',\n",
       " u'535  GENTER ST   SAN DIEGO 92037-5421',\n",
       " u'1275  VIRGINIA WAY   SAN DIEGO 92037-5231',\n",
       " u'1221  OLIVET ST   SAN DIEGO 92037-5241',\n",
       " u'6652  AVENIDA MANANA    SAN DIEGO 92037-6228',\n",
       " u'4858  MERCURY ST   SAN DIEGO 92111-2132',\n",
       " u'1865  NAUTILUS ST   SAN DIEGO 92037-6416',\n",
       " u'4169  LOCHLOMOND ST   SAN DIEGO 92111-3625']"
      ]
     },
     "execution_count": 22,
     "metadata": {},
     "output_type": "execute_result"
    }
   ],
   "source": [
    "addresses"
   ]
  },
  {
   "cell_type": "code",
   "execution_count": 25,
   "metadata": {
    "collapsed": true
   },
   "outputs": [],
   "source": [
    "import requests\n",
    "import shutil\n",
    "\n",
    "BASEPATH = \"/Users/damoncrockett/Desktop/FISP/GSV/zoom/\"\n",
    "BASEURL = \"https://maps.googleapis.com/maps/api/streetview?\"\n",
    "KEY= <redacted>\n",
    "SIZE=\"size=640x640&\""
   ]
  },
  {
   "cell_type": "code",
   "execution_count": 26,
   "metadata": {
    "collapsed": true
   },
   "outputs": [],
   "source": [
    "fovs = [20,30,45,50,60,70,80]"
   ]
  },
  {
   "cell_type": "code",
   "execution_count": 27,
   "metadata": {
    "collapsed": false
   },
   "outputs": [],
   "source": [
    "counter = -1\n",
    "for address in addresses:\n",
    "    for fov in fovs:\n",
    "        loc_param = address\n",
    "        filestring = address\n",
    "        path = BASEPATH+str(fov)+\"/\"+filestring+\".jpg\"\n",
    "        try:\n",
    "            r = requests.get(BASEURL+KEY+SIZE+\"fov=\"+str(fov)+\"&\"+\"location=\"+loc_param,stream=True)\n",
    "            if r.status_code == 200:\n",
    "                with open(path, 'wb') as f:\n",
    "                    r.raw.decode_content = True\n",
    "                    shutil.copyfileobj(r.raw, f)\n",
    "        except:\n",
    "            print 'err'"
   ]
  }
 ],
 "metadata": {
  "kernelspec": {
   "display_name": "Python 2",
   "language": "python",
   "name": "python2"
  },
  "language_info": {
   "codemirror_mode": {
    "name": "ipython",
    "version": 2
   },
   "file_extension": ".py",
   "mimetype": "text/x-python",
   "name": "python",
   "nbconvert_exporter": "python",
   "pygments_lexer": "ipython2",
   "version": "2.7.10"
  }
 },
 "nbformat": 4,
 "nbformat_minor": 0
}
