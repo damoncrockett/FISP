{
 "cells": [
  {
   "cell_type": "code",
   "execution_count": 1,
   "metadata": {
    "collapsed": true
   },
   "outputs": [],
   "source": [
    "import pandas as pd"
   ]
  },
  {
   "cell_type": "code",
   "execution_count": 2,
   "metadata": {
    "collapsed": false
   },
   "outputs": [],
   "source": [
    "t = pd.read_csv(\"./parcel_tiles.csv\")"
   ]
  },
  {
   "cell_type": "code",
   "execution_count": 3,
   "metadata": {
    "collapsed": false
   },
   "outputs": [
    {
     "data": {
      "text/html": [
       "<div>\n",
       "<table border=\"1\" class=\"dataframe\">\n",
       "  <thead>\n",
       "    <tr style=\"text-align: right;\">\n",
       "      <th></th>\n",
       "      <th>APN</th>\n",
       "      <th>set_list</th>\n",
       "    </tr>\n",
       "  </thead>\n",
       "  <tbody>\n",
       "    <tr>\n",
       "      <th>0</th>\n",
       "      <td>3732103400</td>\n",
       "      <td>/Users/damoncrockett/Desktop/FISP/SD/SD_R5C3.tif</td>\n",
       "    </tr>\n",
       "    <tr>\n",
       "      <th>1</th>\n",
       "      <td>3181344500</td>\n",
       "      <td>/Users/damoncrockett/Desktop/FISP/SD/SD_R3C2.tif</td>\n",
       "    </tr>\n",
       "    <tr>\n",
       "      <th>2</th>\n",
       "      <td>5830411300</td>\n",
       "      <td>/Users/damoncrockett/Desktop/FISP/SD/SD_R6C4.tif</td>\n",
       "    </tr>\n",
       "    <tr>\n",
       "      <th>3</th>\n",
       "      <td>3532400900</td>\n",
       "      <td>/Users/damoncrockett/Desktop/FISP/SD/SD_R4C1.tif</td>\n",
       "    </tr>\n",
       "    <tr>\n",
       "      <th>4</th>\n",
       "      <td>5390213300</td>\n",
       "      <td>/Users/damoncrockett/Desktop/FISP/SD/SD_R6C3.tif</td>\n",
       "    </tr>\n",
       "  </tbody>\n",
       "</table>\n",
       "</div>"
      ],
      "text/plain": [
       "          APN                                          set_list\n",
       "0  3732103400  /Users/damoncrockett/Desktop/FISP/SD/SD_R5C3.tif\n",
       "1  3181344500  /Users/damoncrockett/Desktop/FISP/SD/SD_R3C2.tif\n",
       "2  5830411300  /Users/damoncrockett/Desktop/FISP/SD/SD_R6C4.tif\n",
       "3  3532400900  /Users/damoncrockett/Desktop/FISP/SD/SD_R4C1.tif\n",
       "4  5390213300  /Users/damoncrockett/Desktop/FISP/SD/SD_R6C3.tif"
      ]
     },
     "execution_count": 3,
     "metadata": {},
     "output_type": "execute_result"
    }
   ],
   "source": [
    "t.head()"
   ]
  },
  {
   "cell_type": "code",
   "execution_count": 55,
   "metadata": {
    "collapsed": true
   },
   "outputs": [],
   "source": [
    "counter = 169853"
   ]
  },
  {
   "cell_type": "code",
   "execution_count": 62,
   "metadata": {
    "collapsed": false
   },
   "outputs": [
    {
     "data": {
      "text/plain": [
       "APN                                                    4406300900\n",
       "bbox            [(-117.109695066, 32.7609146637), (-117.109695...\n",
       "polygon         POLYGON ((-117.1096950655344 32.76091466368399...\n",
       "polygon_bbox    (-117.109695337, 32.7609145187, -117.109695066...\n",
       "Name: 169860, dtype: object"
      ]
     },
     "execution_count": 62,
     "metadata": {},
     "output_type": "execute_result"
    }
   ],
   "source": [
    "counter+=1\n",
    "\n",
    "parcel_subset.loc[counter]"
   ]
  },
  {
   "cell_type": "markdown",
   "metadata": {
    "collapsed": true
   },
   "source": [
    "##Cropping a tile"
   ]
  },
  {
   "cell_type": "markdown",
   "metadata": {},
   "source": [
    "The plan is this: open a tile (since they are large, good to just open one and then do everything you need with it), run through the list of parcels within that tile, crop to the parcel, save. Then check with a quick google maps request to see whether we got the right area.\n",
    "\n",
    "Looking at the table above, let's select a tile with not too many parcels, just to get a sense of whether this method will work."
   ]
  },
  {
   "cell_type": "code",
   "execution_count": 4,
   "metadata": {
    "collapsed": true
   },
   "outputs": [],
   "source": [
    "ex_tile = \"/Users/damoncrockett/Desktop/FISP/SD/SD_R5C3.tif\" # this was chosen by looking"
   ]
  },
  {
   "cell_type": "code",
   "execution_count": 5,
   "metadata": {
    "collapsed": true
   },
   "outputs": [],
   "source": [
    "from PIL import Image"
   ]
  },
  {
   "cell_type": "code",
   "execution_count": 6,
   "metadata": {
    "collapsed": false
   },
   "outputs": [
    {
     "name": "stderr",
     "output_type": "stream",
     "text": [
      "/Library/Python/2.7/site-packages/PIL/Image.py:2261: DecompressionBombWarning: Image size (268435456 pixels) exceeds limit of 89478485 pixels, could be decompression bomb DOS attack.\n",
      "  DecompressionBombWarning)\n"
     ]
    }
   ],
   "source": [
    "im = Image.open(ex_tile)"
   ]
  },
  {
   "cell_type": "markdown",
   "metadata": {},
   "source": [
    "####Tile data"
   ]
  },
  {
   "cell_type": "code",
   "execution_count": 7,
   "metadata": {
    "collapsed": true
   },
   "outputs": [],
   "source": [
    "import shapefile\n",
    "polygons_sf = shapefile.Reader(\"/Users/damoncrockett/Desktop/FISP/SD/SD_TILE_SHAPE/SD_TILE_SHAPE.shp\")\n",
    "records = polygons_sf.records()\n",
    "polygon_shapes = polygons_sf.shapes()\n",
    "polygon_points = [q.points for q in polygon_shapes]\n",
    "filenames = [item[1] for item in records]\n",
    "\n",
    "import pandas as pd\n",
    "df = pd.DataFrame(filenames,columns=['filename'])\n",
    "df['bbox'] = polygon_points\n",
    "BASE = \"/Users/damoncrockett/Desktop/FISP/SD/\"\n",
    "df['local_path'] = BASE+df.filename\n",
    "\n",
    "from shapely.geometry import Polygon\n",
    "df['bbox_polygon'] = df.bbox.apply(Polygon)"
   ]
  },
  {
   "cell_type": "code",
   "execution_count": 8,
   "metadata": {
    "collapsed": false
   },
   "outputs": [
    {
     "data": {
      "text/html": [
       "<div>\n",
       "<table border=\"1\" class=\"dataframe\">\n",
       "  <thead>\n",
       "    <tr style=\"text-align: right;\">\n",
       "      <th></th>\n",
       "      <th>filename</th>\n",
       "      <th>bbox</th>\n",
       "      <th>local_path</th>\n",
       "      <th>bbox_polygon</th>\n",
       "    </tr>\n",
       "  </thead>\n",
       "  <tbody>\n",
       "    <tr>\n",
       "      <th>0</th>\n",
       "      <td>SD_R10C3.tif</td>\n",
       "      <td>[[-117.129203295, 32.4420483974], [-117.129203...</td>\n",
       "      <td>/Users/damoncrockett/Desktop/FISP/SD/SD_R10C3.tif</td>\n",
       "      <td>POLYGON ((-117.1292032951432 32.4420483973946,...</td>\n",
       "    </tr>\n",
       "    <tr>\n",
       "      <th>1</th>\n",
       "      <td>SD_R10C4.tif</td>\n",
       "      <td>[[-117.044032056, 32.4330916196], [-117.044032...</td>\n",
       "      <td>/Users/damoncrockett/Desktop/FISP/SD/SD_R10C4.tif</td>\n",
       "      <td>POLYGON ((-117.044032055738 32.43309161957539,...</td>\n",
       "    </tr>\n",
       "    <tr>\n",
       "      <th>2</th>\n",
       "      <td>SD_R10C5.tif</td>\n",
       "      <td>[[-116.956539325, 32.4296783572], [-116.956539...</td>\n",
       "      <td>/Users/damoncrockett/Desktop/FISP/SD/SD_R10C5.tif</td>\n",
       "      <td>POLYGON ((-116.9565393250976 32.42967835722352...</td>\n",
       "    </tr>\n",
       "    <tr>\n",
       "      <th>3</th>\n",
       "      <td>SD_R10C6.tif</td>\n",
       "      <td>[[-116.869046594, 32.4492586143], [-116.869046...</td>\n",
       "      <td>/Users/damoncrockett/Desktop/FISP/SD/SD_R10C6.tif</td>\n",
       "      <td>POLYGON ((-116.8690465944572 32.44925861431301...</td>\n",
       "    </tr>\n",
       "    <tr>\n",
       "      <th>4</th>\n",
       "      <td>SD_R1C2.tif</td>\n",
       "      <td>[[-117.175328115, 33.0564481348], [-117.175328...</td>\n",
       "      <td>/Users/damoncrockett/Desktop/FISP/SD/SD_R1C2.tif</td>\n",
       "      <td>POLYGON ((-117.1753281149864 33.05644813475931...</td>\n",
       "    </tr>\n",
       "  </tbody>\n",
       "</table>\n",
       "</div>"
      ],
      "text/plain": [
       "       filename                                               bbox  \\\n",
       "0  SD_R10C3.tif  [[-117.129203295, 32.4420483974], [-117.129203...   \n",
       "1  SD_R10C4.tif  [[-117.044032056, 32.4330916196], [-117.044032...   \n",
       "2  SD_R10C5.tif  [[-116.956539325, 32.4296783572], [-116.956539...   \n",
       "3  SD_R10C6.tif  [[-116.869046594, 32.4492586143], [-116.869046...   \n",
       "4   SD_R1C2.tif  [[-117.175328115, 33.0564481348], [-117.175328...   \n",
       "\n",
       "                                          local_path  \\\n",
       "0  /Users/damoncrockett/Desktop/FISP/SD/SD_R10C3.tif   \n",
       "1  /Users/damoncrockett/Desktop/FISP/SD/SD_R10C4.tif   \n",
       "2  /Users/damoncrockett/Desktop/FISP/SD/SD_R10C5.tif   \n",
       "3  /Users/damoncrockett/Desktop/FISP/SD/SD_R10C6.tif   \n",
       "4   /Users/damoncrockett/Desktop/FISP/SD/SD_R1C2.tif   \n",
       "\n",
       "                                        bbox_polygon  \n",
       "0  POLYGON ((-117.1292032951432 32.4420483973946,...  \n",
       "1  POLYGON ((-117.044032055738 32.43309161957539,...  \n",
       "2  POLYGON ((-116.9565393250976 32.42967835722352...  \n",
       "3  POLYGON ((-116.8690465944572 32.44925861431301...  \n",
       "4  POLYGON ((-117.1753281149864 33.05644813475931...  "
      ]
     },
     "execution_count": 8,
     "metadata": {},
     "output_type": "execute_result"
    }
   ],
   "source": [
    "df.head()"
   ]
  },
  {
   "cell_type": "code",
   "execution_count": 9,
   "metadata": {
    "collapsed": false
   },
   "outputs": [],
   "source": [
    "idx = df[df.local_path==ex_tile].index[0]"
   ]
  },
  {
   "cell_type": "code",
   "execution_count": 10,
   "metadata": {
    "collapsed": false
   },
   "outputs": [
    {
     "data": {
      "text/plain": [
       "[[-117.13152478637844, 32.760858775429234],\n",
       " [-117.13152478637844, 32.834756115261754],\n",
       " [-117.04403205573801, 32.834756115261754],\n",
       " [-117.04403205573801, 32.760858775429234],\n",
       " [-117.13152478637844, 32.760858775429234]]"
      ]
     },
     "execution_count": 10,
     "metadata": {},
     "output_type": "execute_result"
    }
   ],
   "source": [
    "df.bbox.loc[idx]"
   ]
  },
  {
   "cell_type": "code",
   "execution_count": 11,
   "metadata": {
    "collapsed": true
   },
   "outputs": [],
   "source": [
    "points = df.bbox.loc[6]"
   ]
  },
  {
   "cell_type": "code",
   "execution_count": 12,
   "metadata": {
    "collapsed": true
   },
   "outputs": [],
   "source": [
    "polygon = df.bbox_polygon.loc[6]"
   ]
  },
  {
   "cell_type": "code",
   "execution_count": 13,
   "metadata": {
    "collapsed": false
   },
   "outputs": [],
   "source": [
    "p = list(set([item for sublist in points for item in sublist]))\n",
    "p.sort()"
   ]
  },
  {
   "cell_type": "code",
   "execution_count": 14,
   "metadata": {
    "collapsed": false
   },
   "outputs": [],
   "source": [
    "lon_min = p[0]\n",
    "lon_max = p[1]\n",
    "lat_min = p[2]\n",
    "lat_max = p[3]"
   ]
  },
  {
   "cell_type": "markdown",
   "metadata": {},
   "source": [
    "####Parcel Data"
   ]
  },
  {
   "cell_type": "code",
   "execution_count": 15,
   "metadata": {
    "collapsed": true
   },
   "outputs": [],
   "source": [
    "polygons_sf = shapefile.Reader(\"/Users/damoncrockett/Desktop/FISP/SanGIS/Parcels/PARCELS.shp\")\n",
    "polygon_shapes = polygons_sf.shapes()\n",
    "polygon_points = [q.points for q in polygon_shapes]\n",
    "records = polygons_sf.records()\n",
    "\n",
    "polygons_sd = []\n",
    "records_sd = []\n",
    "\n",
    "for i in range(len(records)):\n",
    "    if records[i][12]=='SD':\n",
    "        polygons_sd.append(polygon_points[i])\n",
    "        records_sd.append(records[i])\n",
    "        \n",
    "APN = [item[0] for item in records_sd]\n",
    "d = pd.DataFrame(APN,columns=['APN'])\n",
    "\n",
    "# Convert from state plane to latlon\n",
    "from pyproj import Proj\n",
    "p_from = Proj(init='epsg:2230')\n",
    "conv = 0.3048     # ft to m\n",
    "tmp = [[p_from(point[0] * conv, point[1] * conv, inverse=True) for point in polygon] for polygon in polygons_sd]\n",
    "\n",
    "d['bbox'] = tmp"
   ]
  },
  {
   "cell_type": "code",
   "execution_count": 16,
   "metadata": {
    "collapsed": true
   },
   "outputs": [],
   "source": [
    "from shapely.geometry import Polygon"
   ]
  },
  {
   "cell_type": "code",
   "execution_count": 17,
   "metadata": {
    "collapsed": false
   },
   "outputs": [],
   "source": [
    "d['polygon'] = d.bbox.apply(Polygon)"
   ]
  },
  {
   "cell_type": "code",
   "execution_count": 18,
   "metadata": {
    "collapsed": true
   },
   "outputs": [],
   "source": [
    "d['polygon_bbox'] = d.polygon.map(lambda x:x.bounds)"
   ]
  },
  {
   "cell_type": "code",
   "execution_count": 19,
   "metadata": {
    "collapsed": false
   },
   "outputs": [],
   "source": [
    "APNs = t.groupby(\"set_list\").groups[ex_tile] # gives you the indices"
   ]
  },
  {
   "cell_type": "code",
   "execution_count": 20,
   "metadata": {
    "collapsed": false
   },
   "outputs": [
    {
     "data": {
      "text/plain": [
       "True"
      ]
     },
     "execution_count": 20,
     "metadata": {},
     "output_type": "execute_result"
    }
   ],
   "source": [
    "len(d) == len(t)"
   ]
  },
  {
   "cell_type": "code",
   "execution_count": 21,
   "metadata": {
    "collapsed": true
   },
   "outputs": [],
   "source": [
    "d.APN = d.APN.apply(int)"
   ]
  },
  {
   "cell_type": "code",
   "execution_count": 22,
   "metadata": {
    "collapsed": false
   },
   "outputs": [
    {
     "data": {
      "text/plain": [
       "1.0"
      ]
     },
     "execution_count": 22,
     "metadata": {},
     "output_type": "execute_result"
    }
   ],
   "source": [
    "import numpy as np\n",
    "np.mean(d.APN == t.APN) # making sure these two lists of parcels are in the same order"
   ]
  },
  {
   "cell_type": "code",
   "execution_count": 23,
   "metadata": {
    "collapsed": false
   },
   "outputs": [],
   "source": [
    "parcel_subset = d.loc[APNs] # subset to just those parcels within our chosen tile"
   ]
  },
  {
   "cell_type": "markdown",
   "metadata": {},
   "source": [
    "####Normalization"
   ]
  },
  {
   "cell_type": "markdown",
   "metadata": {},
   "source": [
    "We now have to normalize the parcel bboxes as percentages, which we will use to crop the tiles, in pixels."
   ]
  },
  {
   "cell_type": "code",
   "execution_count": 24,
   "metadata": {
    "collapsed": true
   },
   "outputs": [],
   "source": [
    "# (minx, miny, maxx, maxy) shapely\n",
    "# (left, upper, right, lower) PIL"
   ]
  },
  {
   "cell_type": "code",
   "execution_count": 25,
   "metadata": {
    "collapsed": true
   },
   "outputs": [],
   "source": [
    "x_range = abs(lon_max - lon_min) # bc all our lons are negative\n",
    "y_range = lat_max - lat_min"
   ]
  },
  {
   "cell_type": "code",
   "execution_count": 26,
   "metadata": {
    "collapsed": false
   },
   "outputs": [],
   "source": [
    "h = im.height\n",
    "w = im.width"
   ]
  },
  {
   "cell_type": "code",
   "execution_count": 27,
   "metadata": {
    "collapsed": true
   },
   "outputs": [],
   "source": [
    "def norm_reorder_px(tup):\n",
    "    tmp = (\n",
    "        int(round(((tup[0] - lon_min) / x_range) * w)),\n",
    "        int(round((1 - (tup[3] - lat_min) / y_range) * h)), # bc in pixels, 0 at top\n",
    "        int(round(((tup[2] - lon_min) / x_range) * w)),\n",
    "        int(round((1 - (tup[1] - lat_min) / y_range) * h))  # bc in pixels, 0 at top\n",
    "        )\n",
    "    return tmp"
   ]
  },
  {
   "cell_type": "code",
   "execution_count": 28,
   "metadata": {
    "collapsed": true
   },
   "outputs": [],
   "source": [
    "DIR = \"/Users/damoncrockett/Desktop/FISP/GSM/sat_cuts/\""
   ]
  },
  {
   "cell_type": "code",
   "execution_count": null,
   "metadata": {
    "collapsed": true
   },
   "outputs": [],
   "source": []
  },
  {
   "cell_type": "code",
   "execution_count": 71,
   "metadata": {
    "collapsed": true
   },
   "outputs": [],
   "source": [
    "#l = list(parcel_subset.index)\n",
    "l = [169860]"
   ]
  },
  {
   "cell_type": "code",
   "execution_count": 72,
   "metadata": {
    "collapsed": false
   },
   "outputs": [],
   "source": [
    "for i in l:\n",
    "    parcel_apn = parcel_subset.APN.loc[i]\n",
    "    parcel_geo = parcel_subset.polygon_bbox.loc[i] \n",
    "    tmp = im.crop(norm_reorder_px(parcel_geo))\n",
    "    s = tmp.size\n",
    "    if s[0]!=0 and s[1]!=0:\n",
    "        tmp.save(DIR+str(parcel_apn)+\".png\")"
   ]
  },
  {
   "cell_type": "code",
   "execution_count": 73,
   "metadata": {
    "collapsed": false
   },
   "outputs": [
    {
     "data": {
      "text/plain": [
       "False"
      ]
     },
     "execution_count": 73,
     "metadata": {},
     "output_type": "execute_result"
    }
   ],
   "source": [
    "s[0]!=0 and s[1]!=0"
   ]
  },
  {
   "cell_type": "code",
   "execution_count": null,
   "metadata": {
    "collapsed": true
   },
   "outputs": [],
   "source": []
  },
  {
   "cell_type": "markdown",
   "metadata": {},
   "source": [
    "####Checking with Google Maps"
   ]
  },
  {
   "cell_type": "code",
   "execution_count": 244,
   "metadata": {
    "collapsed": true
   },
   "outputs": [],
   "source": [
    "parcel_table = pd.read_csv(\"./parcels_new.csv\")"
   ]
  },
  {
   "cell_type": "code",
   "execution_count": 245,
   "metadata": {
    "collapsed": false
   },
   "outputs": [],
   "source": [
    "ex_parcels = parcel_table[['apn','x_coord','y_coord','shape_area']].loc[l]"
   ]
  },
  {
   "cell_type": "code",
   "execution_count": 246,
   "metadata": {
    "collapsed": true
   },
   "outputs": [],
   "source": [
    "apn_list = list(ex_parcels.apn)"
   ]
  },
  {
   "cell_type": "code",
   "execution_count": 247,
   "metadata": {
    "collapsed": true
   },
   "outputs": [],
   "source": [
    "area_list = list(ex_parcels.shape_area)"
   ]
  },
  {
   "cell_type": "code",
   "execution_count": 248,
   "metadata": {
    "collapsed": false
   },
   "outputs": [
    {
     "data": {
      "text/plain": [
       "54948347.866099998"
      ]
     },
     "execution_count": 248,
     "metadata": {},
     "output_type": "execute_result"
    }
   ],
   "source": [
    "max(area_list)"
   ]
  },
  {
   "cell_type": "code",
   "execution_count": 249,
   "metadata": {
    "collapsed": true
   },
   "outputs": [],
   "source": [
    "x_list = list(ex_parcels.x_coord)\n",
    "y_list = list(ex_parcels.y_coord)\n",
    "coord_list = []\n",
    "for i in range(len(x_list)):\n",
    "    coord_list.append((x_list[i],y_list[i]))"
   ]
  },
  {
   "cell_type": "code",
   "execution_count": 250,
   "metadata": {
    "collapsed": true
   },
   "outputs": [],
   "source": [
    "ex_parcels['converted_tuple'] = [p_from(point[0] * conv, point[1] * conv, inverse=True) for point in coord_list]"
   ]
  },
  {
   "cell_type": "code",
   "execution_count": 251,
   "metadata": {
    "collapsed": true
   },
   "outputs": [],
   "source": [
    "import requests\n",
    "import shutil\n",
    "\n",
    "BASEPATH = \"/Users/damoncrockett/Desktop/FISP/GSM/\"\n",
    "BASEURL = \"https://maps.googleapis.com/maps/api/staticmap?\"\n",
    "KEY= <redacted>\n",
    "SIZE=\"size=640x640&\"\n",
    "TYPE=\"maptype=satellite&\""
   ]
  },
  {
   "cell_type": "code",
   "execution_count": 252,
   "metadata": {
    "collapsed": false
   },
   "outputs": [],
   "source": [
    "converted_tuples = list(ex_parcels.converted_tuple)\n",
    "converted_tuples_strings = [str(item[1])+\",\"+str(item[0]) for item in converted_tuples]"
   ]
  },
  {
   "cell_type": "markdown",
   "metadata": {},
   "source": [
    "In Google Maps, a zoom of 21 puts you at about 12,000 sq ft. So zoom 21 should be okay for parcels up to this size, and then we'll zoom out beyond that, and then zoom out beyond 48,000, and so forth, because each zoom integer quadruples the squared area."
   ]
  },
  {
   "cell_type": "code",
   "execution_count": 257,
   "metadata": {
    "collapsed": false
   },
   "outputs": [],
   "source": [
    "counter = -1\n",
    "\n",
    "for converted_tuple_string in converted_tuples_strings:\n",
    "    counter+=1\n",
    "    loc_param = converted_tuple_string\n",
    "    filestring = str(apn_list[counter])\n",
    "    \n",
    "    shape_area = area_list[counter]\n",
    "    fov = 21\n",
    "    if 48000 > shape_area > 12000:\n",
    "        fov = 20\n",
    "    elif 192000 > shape_area > 48000:\n",
    "        fov = 19\n",
    "    elif 768000 > shape_area > 192000:\n",
    "        fov = 18\n",
    "    elif 3072000 > shape_area > 768000:\n",
    "        fov = 17\n",
    "    elif 12288000 > shape_area > 3072000:\n",
    "        fov = 16\n",
    "    elif 49152000 > shape_area > 12288000:\n",
    "        fov = 15\n",
    "    elif shape_area > 49152000:\n",
    "        fov = 14\n",
    "    \n",
    "    path = BASEPATH+filestring+\".png\"\n",
    "    try:\n",
    "        r = requests.get(BASEURL+KEY+SIZE+TYPE+\"zoom=\"+str(fov)+\"&\"+\"center=\"+loc_param,stream=True)\n",
    "        if r.status_code == 200:\n",
    "            with open(path, 'wb') as f:\n",
    "                r.raw.decode_content = True\n",
    "                shutil.copyfileobj(r.raw, f)\n",
    "    except Exception as e:\n",
    "        print e"
   ]
  },
  {
   "cell_type": "markdown",
   "metadata": {
    "collapsed": true
   },
   "source": [
    "Use a weaker geo relation, like 'intersects', to find those parcels across multiple tiles."
   ]
  },
  {
   "cell_type": "markdown",
   "metadata": {},
   "source": [
    "Also should plot the cut out parcels by image plotting using their centroids."
   ]
  },
  {
   "cell_type": "markdown",
   "metadata": {},
   "source": [
    "Here's an idea for the Google maps images: request a zoomed out enough image, drop flags at the bbox points."
   ]
  }
 ],
 "metadata": {
  "kernelspec": {
   "display_name": "Python 2",
   "language": "python",
   "name": "python2"
  },
  "language_info": {
   "codemirror_mode": {
    "name": "ipython",
    "version": 2
   },
   "file_extension": ".py",
   "mimetype": "text/x-python",
   "name": "python",
   "nbconvert_exporter": "python",
   "pygments_lexer": "ipython2",
   "version": "2.7.10"
  }
 },
 "nbformat": 4,
 "nbformat_minor": 0
}
