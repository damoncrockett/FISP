{
 "cells": [
  {
   "cell_type": "code",
   "execution_count": 50,
   "metadata": {
    "collapsed": true
   },
   "outputs": [],
   "source": [
    "import shapefile\n",
    "import shapely"
   ]
  },
  {
   "cell_type": "code",
   "execution_count": 51,
   "metadata": {
    "collapsed": false
   },
   "outputs": [],
   "source": [
    "polygons_sf = shapefile.Reader(\"/Users/damoncrockett/Desktop/SD/SD_TILE_SHAPE/SD_TILE_SHAPE.shp\")"
   ]
  },
  {
   "cell_type": "code",
   "execution_count": 52,
   "metadata": {
    "collapsed": true
   },
   "outputs": [],
   "source": [
    "records = polygons_sf.records()"
   ]
  },
  {
   "cell_type": "code",
   "execution_count": 53,
   "metadata": {
    "collapsed": false
   },
   "outputs": [
    {
     "data": {
      "text/plain": [
       "20"
      ]
     },
     "execution_count": 53,
     "metadata": {},
     "output_type": "execute_result"
    }
   ],
   "source": [
    "records.index(['R4C1', 'SD_R4C1.tif', 'SD', 'Vol. 1'])"
   ]
  },
  {
   "cell_type": "code",
   "execution_count": 54,
   "metadata": {
    "collapsed": false
   },
   "outputs": [
    {
     "data": {
      "text/plain": [
       "34"
      ]
     },
     "execution_count": 54,
     "metadata": {},
     "output_type": "execute_result"
    }
   ],
   "source": [
    "records.index(['R6C3', 'SD_R6C3.tif', 'SD', 'Vol. 1'])"
   ]
  },
  {
   "cell_type": "code",
   "execution_count": 55,
   "metadata": {
    "collapsed": true
   },
   "outputs": [],
   "source": [
    "polygon_shapes = polygons_sf.shapes()\n",
    "polygon_points = [q.points for q in polygon_shapes]\n",
    "from shapely.geometry import Polygon, Point\n",
    "polygons = [Polygon(q) for q in polygon_points]"
   ]
  },
  {
   "cell_type": "code",
   "execution_count": 56,
   "metadata": {
    "collapsed": false
   },
   "outputs": [
    {
     "data": {
      "text/plain": [
       "[[-117.30386631067036, 32.834756115261754],\n",
       " [-117.30386631067036, 32.90865345509427],\n",
       " [-117.21901751701887, 32.90865345509427],\n",
       " [-117.21901751701887, 32.834756115261754],\n",
       " [-117.30386631067036, 32.834756115261754]]"
      ]
     },
     "execution_count": 56,
     "metadata": {},
     "output_type": "execute_result"
    }
   ],
   "source": [
    "polygon_points[20]"
   ]
  },
  {
   "cell_type": "code",
   "execution_count": 57,
   "metadata": {
    "collapsed": true
   },
   "outputs": [],
   "source": [
    "OI = polygon_points[20][0][0]\n",
    "OX = polygon_points[20][2][0]\n",
    "AI = polygon_points[20][0][1]\n",
    "AX = polygon_points[20][2][1]\n",
    "OR = OX-OI\n",
    "AR = AX-AI"
   ]
  },
  {
   "cell_type": "code",
   "execution_count": 58,
   "metadata": {
    "collapsed": true
   },
   "outputs": [],
   "source": [
    "OW = 0.433507457989804\n",
    "OE = 0.691295865063881\n",
    "AN = 0.51318359375\n",
    "AS = 0.76318359375"
   ]
  },
  {
   "cell_type": "code",
   "execution_count": 59,
   "metadata": {
    "collapsed": true
   },
   "outputs": [],
   "source": [
    "bbl = OR*OW+OI\n",
    "bbt = AX-AR*AN\n",
    "bbr = OR*OE+OI\n",
    "bbb = AX-AR*AS"
   ]
  },
  {
   "cell_type": "code",
   "execution_count": 60,
   "metadata": {
    "collapsed": false
   },
   "outputs": [
    {
     "name": "stdout",
     "output_type": "stream",
     "text": [
      "-117.267083726 32.8707305527 -117.24521069 32.8522562177\n"
     ]
    }
   ],
   "source": [
    "print bbl,bbt,bbr,bbb"
   ]
  },
  {
   "cell_type": "code",
   "execution_count": 61,
   "metadata": {
    "collapsed": false
   },
   "outputs": [
    {
     "data": {
      "text/plain": [
       "[[-117.13152478637844, 32.686961435596714],\n",
       " [-117.13152478637844, 32.760858775429234],\n",
       " [-117.04403205573801, 32.760858775429234],\n",
       " [-117.04403205573801, 32.686961435596714],\n",
       " [-117.13152478637844, 32.686961435596714]]"
      ]
     },
     "execution_count": 61,
     "metadata": {},
     "output_type": "execute_result"
    }
   ],
   "source": [
    "polygon_points[34]"
   ]
  },
  {
   "cell_type": "code",
   "execution_count": 62,
   "metadata": {
    "collapsed": true
   },
   "outputs": [],
   "source": [
    "OI = polygon_points[34][0][0]\n",
    "OX = polygon_points[34][2][0]\n",
    "AI = polygon_points[34][0][1]\n",
    "AX = polygon_points[34][2][1]\n",
    "OR = OX-OI\n",
    "AR = AX-AI"
   ]
  },
  {
   "cell_type": "code",
   "execution_count": 63,
   "metadata": {
    "collapsed": true
   },
   "outputs": [],
   "source": [
    "OW = 0.07275390625\n",
    "OE = 0.32275390625\n",
    "AN = 0\n",
    "AS = 0.25"
   ]
  },
  {
   "cell_type": "code",
   "execution_count": 64,
   "metadata": {
    "collapsed": true
   },
   "outputs": [],
   "source": [
    "bbl = OR*OW+OI\n",
    "bbt = AX-AR*AN\n",
    "bbr = OR*OE+OI\n",
    "bbb = AX-AR*AS"
   ]
  },
  {
   "cell_type": "code",
   "execution_count": 65,
   "metadata": {
    "collapsed": false
   },
   "outputs": [
    {
     "name": "stdout",
     "output_type": "stream",
     "text": [
      "-117.125159348 32.7608587754 -117.103286166 32.7423844405\n"
     ]
    }
   ],
   "source": [
    "print bbl,bbt,bbr,bbb"
   ]
  }
 ],
 "metadata": {
  "kernelspec": {
   "display_name": "Python 2",
   "language": "python",
   "name": "python2"
  },
  "language_info": {
   "codemirror_mode": {
    "name": "ipython",
    "version": 2
   },
   "file_extension": ".py",
   "mimetype": "text/x-python",
   "name": "python",
   "nbconvert_exporter": "python",
   "pygments_lexer": "ipython2",
   "version": "2.7.6"
  }
 },
 "nbformat": 4,
 "nbformat_minor": 0
}
