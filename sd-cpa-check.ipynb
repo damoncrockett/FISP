{
 "cells": [
  {
   "cell_type": "code",
   "execution_count": 1,
   "metadata": {
    "collapsed": true
   },
   "outputs": [],
   "source": [
    "import pandas as pd"
   ]
  },
  {
   "cell_type": "code",
   "execution_count": 2,
   "metadata": {
    "collapsed": false
   },
   "outputs": [
    {
     "name": "stderr",
     "output_type": "stream",
     "text": [
      "/Library/Python/2.7/site-packages/pandas/io/parsers.py:1170: DtypeWarning: Columns (23) have mixed types. Specify dtype option on import or set low_memory=False.\n",
      "  data = self._reader.read(nrows)\n"
     ]
    }
   ],
   "source": [
    "df = pd.read_csv(\"./US_HSV_modes_top60_cities_weather_user.csv\")"
   ]
  },
  {
   "cell_type": "code",
   "execution_count": 3,
   "metadata": {
    "collapsed": false
   },
   "outputs": [
    {
     "name": "stdout",
     "output_type": "stream",
     "text": [
      "<class 'pandas.core.frame.DataFrame'>\n",
      "Int64Index: 7588558 entries, 0 to 7588557\n",
      "Data columns (total 28 columns):\n",
      "image.path    object\n",
      "filename      object\n",
      "img_url       object\n",
      "size_h        int64\n",
      "size_w        int64\n",
      "lat           float64\n",
      "lon           float64\n",
      "postedTime    object\n",
      "mongo_id      object\n",
      "location      object\n",
      "R.mode        int64\n",
      "G.mode        int64\n",
      "B.mode        int64\n",
      "R.entropy     float64\n",
      "G.entropy     float64\n",
      "B.entropy     float64\n",
      "city          object\n",
      "H.mode        int64\n",
      "S.mode        int64\n",
      "V.mode        int64\n",
      "hour          int64\n",
      "local_date    object\n",
      "temp          float64\n",
      "humidity      object\n",
      "wind          float64\n",
      "rain          float64\n",
      "sky           float64\n",
      "actor         int64\n",
      "dtypes: float64(9), int64(10), object(9)\n",
      "memory usage: 1.6+ GB\n"
     ]
    }
   ],
   "source": [
    "df.info()"
   ]
  },
  {
   "cell_type": "code",
   "execution_count": 4,
   "metadata": {
    "collapsed": true
   },
   "outputs": [],
   "source": [
    "df = df[['filename','lat','lon','city']]"
   ]
  },
  {
   "cell_type": "code",
   "execution_count": 6,
   "metadata": {
    "collapsed": false
   },
   "outputs": [],
   "source": [
    "df = df[df.city==\"san diego\"]"
   ]
  },
  {
   "cell_type": "code",
   "execution_count": 15,
   "metadata": {
    "collapsed": false
   },
   "outputs": [],
   "source": [
    "df.reset_index(drop=True,inplace=True)"
   ]
  },
  {
   "cell_type": "code",
   "execution_count": 9,
   "metadata": {
    "collapsed": true
   },
   "outputs": [],
   "source": [
    "from xml.etree import ElementTree\n",
    "import keytree\n",
    "import shapely\n",
    "from shapely.geometry import Polygon, Point, shape"
   ]
  },
  {
   "cell_type": "code",
   "execution_count": 10,
   "metadata": {
    "collapsed": true
   },
   "outputs": [],
   "source": [
    "doc = open(\"/Users/damoncrockett/vosd.org/215-opendsd/Final.kml\").read()\n",
    "tree = ElementTree.fromstring(doc)\n",
    "# kml namespace\n",
    "kmlns = tree.tag.split('}')[0][1:]\n",
    "# find all placemarks\n",
    "placemks = tree.findall(\".//{%s}Placemark\" % kmlns)\n",
    "# filter out those without polygon elements\n",
    "placemks_with_polygons = []\n",
    "\n",
    "for p in placemks:\n",
    "    if p.findall(\".//{%s}Polygon\" % kmlns):\n",
    "        placemks_with_polygons.append(p)"
   ]
  },
  {
   "cell_type": "code",
   "execution_count": 11,
   "metadata": {
    "collapsed": true
   },
   "outputs": [],
   "source": [
    "# extract kml LinearRings, convert to shapely LinearRings, make dict with cpa names\n",
    "\n",
    "def coords_names(placemks):\n",
    "  coords_names_dict = {}\n",
    "  for placemk in placemks:\n",
    "    name = placemk.getchildren()[0].text\n",
    "    coord_text = placemk.findtext(\".//{%s}coordinates\" % kmlns)\n",
    "    coords = []\n",
    "    for elems in coord_text.split():\n",
    "      points = elems.split(\",\")\n",
    "      coords.append((float(points[0]), float(points[1])))\n",
    "    coords_names_dict[Polygon(coords)] = name\n",
    "  return coords_names_dict\n",
    "\n",
    "import pandas as pd\n",
    "\n",
    "cpa_polygons = pd.DataFrame(coords_names(placemks_with_polygons).items(),\n",
    "            columns=['Polygon','CPA'])"
   ]
  },
  {
   "cell_type": "code",
   "execution_count": 16,
   "metadata": {
    "collapsed": false
   },
   "outputs": [],
   "source": [
    "# collect all lat lon points from dataframe\n",
    "\n",
    "n = len(df.index)\n",
    "locations = []\n",
    "for i in range(n):\n",
    "    point = Point(df.lon[i],df.lat[i])\n",
    "    locations.append(point)"
   ]
  },
  {
   "cell_type": "code",
   "execution_count": 17,
   "metadata": {
    "collapsed": true
   },
   "outputs": [],
   "source": [
    "# crucial step: build spatial index\n",
    "\n",
    "from rtree import index\n",
    "idx = index.Index()\n",
    "count = -1\n",
    "for item in cpa_polygons.Polygon:\n",
    "    count +=1\n",
    "    idx.insert(count, item.bounds)"
   ]
  },
  {
   "cell_type": "code",
   "execution_count": 18,
   "metadata": {
    "collapsed": true
   },
   "outputs": [],
   "source": [
    "# assign a cpa to each point\n",
    "\n",
    "m = len(locations)\n",
    "hoods = []\n",
    "for i in range(m):\n",
    "    tmp = 'nan'\n",
    "    for j in idx.intersection((df.lon[i],df.lat[i])):\n",
    "        if locations[i].within(cpa_polygons.Polygon.loc[j]):\n",
    "            tmp = cpa_polygons.CPA[j]\n",
    "            break\n",
    "    hoods.append(tmp)\n",
    "    \n",
    "df['CPA'] = hoods"
   ]
  },
  {
   "cell_type": "code",
   "execution_count": 20,
   "metadata": {
    "collapsed": false
   },
   "outputs": [
    {
     "data": {
      "text/plain": [
       "nan                                    74349\n",
       "DOWNTOWN                               18807\n",
       "COLLEGE AREA                            8476\n",
       "MISSION VALLEY                          7442\n",
       "UNIVERSITY                              7250\n",
       "PENINSULA                               5650\n",
       "MIRA MESA                               5529\n",
       "PACIFIC BEACH                           5387\n",
       "SKYLINE-PARADISE HILLS                  5320\n",
       "CLAIREMONT MESA                         4857\n",
       "OTAY MESA-NESTOR                        4428\n",
       "NAVAJO                                  4240\n",
       "UPTOWN                                  3957\n",
       "OCEAN BEACH                             3885\n",
       "MID-CITY:CITY HEIGHTS                   3808\n",
       "LINDA VISTA                             3742\n",
       "GREATER NORTH PARK                      3670\n",
       "LA JOLLA                                3578\n",
       "ENCANTO NEIGHBORHOODS,SOUTHEASTERN      3522\n",
       "TIERRASANTA                             3236\n",
       "KEARNY MESA                             3081\n",
       "SOUTHEASTERN SAN DIEGO,SOUTHEASTERN     2916\n",
       "RANCHO PENASQUITOS                      2911\n",
       "RANCHO BERNARDO                         2568\n",
       "MISSION BAY PARK                        2460\n",
       "MID-CITY:EASTERN AREA                   2346\n",
       "RESERVE                                 2317\n",
       "MIDWAY-PACIFIC HIGHWAY                  2283\n",
       "GREATER GOLDEN HILL                     2112\n",
       "MILITARY FACILITIES                     2009\n",
       "SCRIPPS MIRAMAR RANCH                   1831\n",
       "OTAY MESA                               1756\n",
       "BALBOA PARK                             1731\n",
       "SAN YSIDRO                              1726\n",
       "MID-CITY:NORMAL HEIGHTS                 1637\n",
       "MISSION BEACH                           1589\n",
       "MIRAMAR RANCH NORTH                     1138\n",
       "SERRA MESA                              1119\n",
       "CARMEL MOUNTAIN RANCH                   1004\n",
       "SABRE SPRINGS                           1001\n",
       "MID-CITY:KENSINGTON-TALMADGE             814\n",
       "TORREY PINES                             760\n",
       "OLD TOWN SAN DIEGO                       665\n",
       "BARRIO LOGAN                             600\n",
       "TORREY HIGHLANDS                         456\n",
       "BLACK MOUNTAIN RANCH                     435\n",
       "TORREY HILLS                             433\n",
       "PACIFIC HIGHLANDS RANCH                  296\n",
       "SAN PASQUAL                              221\n",
       "DEL MAR MESA                             137\n",
       "NCFUA SUBAREA II                         115\n",
       "FAIRBANKS RANCH COUNTRY CLUB              73\n",
       "RANCHO ENCANTADA                          46\n",
       "EAST ELLIOTT                              20\n",
       "TIJUANA RIVER VALLEY                      19\n",
       "LOS PENASQUITOS CANYON                    14\n",
       "VIA DE LA VALLE                           11\n",
       "dtype: int64"
      ]
     },
     "execution_count": 20,
     "metadata": {},
     "output_type": "execute_result"
    }
   ],
   "source": [
    "df.CPA.value_counts()"
   ]
  },
  {
   "cell_type": "code",
   "execution_count": 21,
   "metadata": {
    "collapsed": true
   },
   "outputs": [],
   "source": [
    "df = df[df.CPA!=\"nan\"]"
   ]
  },
  {
   "cell_type": "code",
   "execution_count": 22,
   "metadata": {
    "collapsed": false
   },
   "outputs": [
    {
     "name": "stdout",
     "output_type": "stream",
     "text": [
      "<class 'pandas.core.frame.DataFrame'>\n",
      "Int64Index: 151434 entries, 3 to 225782\n",
      "Data columns (total 5 columns):\n",
      "filename    151434 non-null object\n",
      "lat         151434 non-null float64\n",
      "lon         151434 non-null float64\n",
      "city        151434 non-null object\n",
      "CPA         151434 non-null object\n",
      "dtypes: float64(2), object(3)\n",
      "memory usage: 6.9+ MB\n"
     ]
    }
   ],
   "source": [
    "df.info()"
   ]
  },
  {
   "cell_type": "code",
   "execution_count": 23,
   "metadata": {
    "collapsed": false
   },
   "outputs": [
    {
     "data": {
      "text/html": [
       "<div>\n",
       "<table border=\"1\" class=\"dataframe\">\n",
       "  <thead>\n",
       "    <tr style=\"text-align: right;\">\n",
       "      <th></th>\n",
       "      <th>filename</th>\n",
       "      <th>lat</th>\n",
       "      <th>lon</th>\n",
       "      <th>city</th>\n",
       "      <th>CPA</th>\n",
       "    </tr>\n",
       "  </thead>\n",
       "  <tbody>\n",
       "    <tr>\n",
       "      <th>3</th>\n",
       "      <td>A_zWavdCEAA5R-p.jpg</td>\n",
       "      <td>32.548669</td>\n",
       "      <td>-117.053793</td>\n",
       "      <td>san diego</td>\n",
       "      <td>SAN YSIDRO</td>\n",
       "    </tr>\n",
       "    <tr>\n",
       "      <th>4</th>\n",
       "      <td>BAI1MoECYAA_Svp.jpg</td>\n",
       "      <td>32.729007</td>\n",
       "      <td>-117.190861</td>\n",
       "      <td>san diego</td>\n",
       "      <td>RESERVE</td>\n",
       "    </tr>\n",
       "    <tr>\n",
       "      <th>5</th>\n",
       "      <td>BALG7R7CEAI8z0P.jpg</td>\n",
       "      <td>32.753788</td>\n",
       "      <td>-117.103402</td>\n",
       "      <td>san diego</td>\n",
       "      <td>MID-CITY:CITY HEIGHTS</td>\n",
       "    </tr>\n",
       "    <tr>\n",
       "      <th>9</th>\n",
       "      <td>BA5dTyxCEAApln6.jpg</td>\n",
       "      <td>32.714065</td>\n",
       "      <td>-117.022723</td>\n",
       "      <td>san diego</td>\n",
       "      <td>SKYLINE-PARADISE HILLS</td>\n",
       "    </tr>\n",
       "    <tr>\n",
       "      <th>10</th>\n",
       "      <td>BBEhK_rCMAErrnS.jpg</td>\n",
       "      <td>32.693186</td>\n",
       "      <td>-117.067500</td>\n",
       "      <td>san diego</td>\n",
       "      <td>ENCANTO NEIGHBORHOODS,SOUTHEASTERN</td>\n",
       "    </tr>\n",
       "  </tbody>\n",
       "</table>\n",
       "</div>"
      ],
      "text/plain": [
       "               filename        lat         lon       city  \\\n",
       "3   A_zWavdCEAA5R-p.jpg  32.548669 -117.053793  san diego   \n",
       "4   BAI1MoECYAA_Svp.jpg  32.729007 -117.190861  san diego   \n",
       "5   BALG7R7CEAI8z0P.jpg  32.753788 -117.103402  san diego   \n",
       "9   BA5dTyxCEAApln6.jpg  32.714065 -117.022723  san diego   \n",
       "10  BBEhK_rCMAErrnS.jpg  32.693186 -117.067500  san diego   \n",
       "\n",
       "                                   CPA  \n",
       "3                           SAN YSIDRO  \n",
       "4                              RESERVE  \n",
       "5                MID-CITY:CITY HEIGHTS  \n",
       "9               SKYLINE-PARADISE HILLS  \n",
       "10  ENCANTO NEIGHBORHOODS,SOUTHEASTERN  "
      ]
     },
     "execution_count": 23,
     "metadata": {},
     "output_type": "execute_result"
    }
   ],
   "source": [
    "df.head()"
   ]
  },
  {
   "cell_type": "code",
   "execution_count": 24,
   "metadata": {
    "collapsed": true
   },
   "outputs": [],
   "source": [
    "df.to_csv(\"./sd_2013.csv\",index=False)"
   ]
  },
  {
   "cell_type": "code",
   "execution_count": null,
   "metadata": {
    "collapsed": true
   },
   "outputs": [],
   "source": []
  }
 ],
 "metadata": {
  "kernelspec": {
   "display_name": "Python 2",
   "language": "python",
   "name": "python2"
  },
  "language_info": {
   "codemirror_mode": {
    "name": "ipython",
    "version": 2
   },
   "file_extension": ".py",
   "mimetype": "text/x-python",
   "name": "python",
   "nbconvert_exporter": "python",
   "pygments_lexer": "ipython2",
   "version": "2.7.6"
  }
 },
 "nbformat": 4,
 "nbformat_minor": 0
}
