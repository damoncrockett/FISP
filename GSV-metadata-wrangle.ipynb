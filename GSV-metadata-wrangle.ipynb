{
 "cells": [
  {
   "cell_type": "code",
   "execution_count": 2,
   "metadata": {
    "collapsed": true
   },
   "outputs": [],
   "source": [
    "import pandas as pd"
   ]
  },
  {
   "cell_type": "code",
   "execution_count": 3,
   "metadata": {
    "collapsed": true
   },
   "outputs": [],
   "source": [
    "parcel_data = pd.read_csv(\"./parcels_new.csv\")"
   ]
  },
  {
   "cell_type": "code",
   "execution_count": 4,
   "metadata": {
    "collapsed": true
   },
   "outputs": [],
   "source": [
    "df = pd.read_csv(\"./GSV/FISP/GSV/60/filenames.csv\")"
   ]
  },
  {
   "cell_type": "code",
   "execution_count": 5,
   "metadata": {
    "collapsed": true
   },
   "outputs": [],
   "source": [
    "import os"
   ]
  },
  {
   "cell_type": "code",
   "execution_count": 6,
   "metadata": {
    "collapsed": false
   },
   "outputs": [],
   "source": [
    "df['apn'] = df.filename.apply(os.path.basename)"
   ]
  },
  {
   "cell_type": "code",
   "execution_count": 7,
   "metadata": {
    "collapsed": false
   },
   "outputs": [],
   "source": [
    "df.apn = df.apn.map(lambda x:x.rstrip(\".jpg\"))"
   ]
  },
  {
   "cell_type": "code",
   "execution_count": 8,
   "metadata": {
    "collapsed": false
   },
   "outputs": [
    {
     "data": {
      "text/plain": [
       "numpy.int64"
      ]
     },
     "execution_count": 8,
     "metadata": {},
     "output_type": "execute_result"
    }
   ],
   "source": [
    "type(parcel_data.apn.loc[0])"
   ]
  },
  {
   "cell_type": "code",
   "execution_count": 9,
   "metadata": {
    "collapsed": false
   },
   "outputs": [
    {
     "data": {
      "text/plain": [
       "str"
      ]
     },
     "execution_count": 9,
     "metadata": {},
     "output_type": "execute_result"
    }
   ],
   "source": [
    "type(df.apn.loc[0])"
   ]
  },
  {
   "cell_type": "code",
   "execution_count": 10,
   "metadata": {
    "collapsed": true
   },
   "outputs": [],
   "source": [
    "parcel_data.apn = parcel_data.apn.apply(str)"
   ]
  },
  {
   "cell_type": "code",
   "execution_count": 11,
   "metadata": {
    "collapsed": false
   },
   "outputs": [],
   "source": [
    "parcel_data.set_index(\"apn\",inplace=True)"
   ]
  },
  {
   "cell_type": "code",
   "execution_count": 12,
   "metadata": {
    "collapsed": false
   },
   "outputs": [],
   "source": [
    "df = df.join(parcel_data,on='apn')"
   ]
  },
  {
   "cell_type": "code",
   "execution_count": 13,
   "metadata": {
    "collapsed": true
   },
   "outputs": [],
   "source": [
    "import numpy as np"
   ]
  },
  {
   "cell_type": "code",
   "execution_count": 14,
   "metadata": {
    "collapsed": false
   },
   "outputs": [
    {
     "data": {
      "text/plain": [
       "Index([u'filename', u'apn', u'apn_8', u'parcelid', u'own_name1', u'own_name2',\n",
       "       u'own_name3', u'fractint', u'own_addr1', u'own_addr2', u'own_addr3',\n",
       "       u'own_addr4', u'own_zip', u'situs_juri', u'situs_stre', u'situs_suff',\n",
       "       u'situs_post', u'situs_pre_', u'situs_addr', u'situs_frac',\n",
       "       u'situs_buil', u'situs_suit', u'situs_comm', u'legldesc', u'asr_land',\n",
       "       u'asr_impr', u'asr_total', u'doctype', u'docnmbr', u'docdate',\n",
       "       u'acreage', u'taxstat', u'ownerocc', u'tranum', u'asr_zone',\n",
       "       u'asr_landus', u'unitqty', u'submap', u'subname', u'nucleus_zo',\n",
       "       u'nucleus_us', u'addrno', u'addrfrac', u'addrunit', u'roadpdir',\n",
       "       u'roadname', u'roadpostd', u'roadsfx', u'zip', u'nucleus_si',\n",
       "       u'nucleus__1', u'nucleus__2', u'situs_zip', u'x_coord', u'y_coord',\n",
       "       u'multi', u'overlay_ju', u'sub_type', u'shape_area', u'shape_len',\n",
       "       u'address'],\n",
       "      dtype='object')"
      ]
     },
     "execution_count": 14,
     "metadata": {},
     "output_type": "execute_result"
    }
   ],
   "source": [
    "df.columns"
   ]
  },
  {
   "cell_type": "code",
   "execution_count": 15,
   "metadata": {
    "collapsed": true
   },
   "outputs": [],
   "source": [
    "cols = ['filename','apn','asr_land',\n",
    "        'asr_impr','asr_total','shape_area',\n",
    "        'unitqty','nucleus_zo','nucleus_us',\n",
    "        'x_coord','y_coord','address']"
   ]
  },
  {
   "cell_type": "code",
   "execution_count": 16,
   "metadata": {
    "collapsed": false
   },
   "outputs": [],
   "source": [
    "df = df[cols]"
   ]
  },
  {
   "cell_type": "code",
   "execution_count": 17,
   "metadata": {
    "collapsed": false
   },
   "outputs": [
    {
     "name": "stdout",
     "output_type": "stream",
     "text": [
      "<class 'pandas.core.frame.DataFrame'>\n",
      "Int64Index: 382756 entries, 0 to 382755\n",
      "Data columns (total 12 columns):\n",
      "filename      382756 non-null object\n",
      "apn           382756 non-null object\n",
      "asr_land      382756 non-null int64\n",
      "asr_impr      382756 non-null int64\n",
      "asr_total     382756 non-null int64\n",
      "shape_area    382756 non-null float64\n",
      "unitqty       382756 non-null int64\n",
      "nucleus_zo    382756 non-null int64\n",
      "nucleus_us    382756 non-null int64\n",
      "x_coord       382756 non-null float64\n",
      "y_coord       382756 non-null float64\n",
      "address       382756 non-null object\n",
      "dtypes: float64(3), int64(6), object(3)\n",
      "memory usage: 38.0+ MB\n"
     ]
    }
   ],
   "source": [
    "df.info()"
   ]
  },
  {
   "cell_type": "code",
   "execution_count": 18,
   "metadata": {
    "collapsed": true
   },
   "outputs": [],
   "source": [
    "from pyproj import Proj\n",
    "p_from = Proj(init='epsg:2230')\n",
    "conv = 0.3048     # ft to m"
   ]
  },
  {
   "cell_type": "code",
   "execution_count": 19,
   "metadata": {
    "collapsed": true
   },
   "outputs": [],
   "source": [
    "x = list(df.x_coord)\n",
    "y = list(df.y_coord)\n",
    "l = []\n",
    "for i in range(len(x)):\n",
    "    l.append((x[i],y[i]))\n",
    "tmp = [p_from(point[0] * conv, point[1] * conv, inverse=True) for point in l]"
   ]
  },
  {
   "cell_type": "code",
   "execution_count": 23,
   "metadata": {
    "collapsed": true
   },
   "outputs": [],
   "source": [
    "df['lon'] = [item[0] for item in tmp]\n",
    "df['lat'] = [item[1] for item in tmp]"
   ]
  },
  {
   "cell_type": "code",
   "execution_count": 21,
   "metadata": {
    "collapsed": true
   },
   "outputs": [],
   "source": [
    "del df['x_coord']\n",
    "del df['y_coord']"
   ]
  },
  {
   "cell_type": "code",
   "execution_count": 25,
   "metadata": {
    "collapsed": true
   },
   "outputs": [],
   "source": [
    "df.to_csv(\"./streetview_parcel_basic.csv\",index=False)"
   ]
  }
 ],
 "metadata": {
  "kernelspec": {
   "display_name": "Python 2",
   "language": "python",
   "name": "python2"
  },
  "language_info": {
   "codemirror_mode": {
    "name": "ipython",
    "version": 2
   },
   "file_extension": ".py",
   "mimetype": "text/x-python",
   "name": "python",
   "nbconvert_exporter": "python",
   "pygments_lexer": "ipython2",
   "version": "2.7.10"
  }
 },
 "nbformat": 4,
 "nbformat_minor": 0
}
