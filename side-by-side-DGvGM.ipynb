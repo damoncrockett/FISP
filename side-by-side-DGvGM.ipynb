{
 "cells": [
  {
   "cell_type": "code",
   "execution_count": 1,
   "metadata": {
    "collapsed": true
   },
   "outputs": [],
   "source": [
    "from PIL import Image\n",
    "import os\n",
    "import glob"
   ]
  },
  {
   "cell_type": "code",
   "execution_count": 2,
   "metadata": {
    "collapsed": true
   },
   "outputs": [],
   "source": [
    "DIR = \"/Users/damoncrockett/Desktop/FISP/GSM/\""
   ]
  },
  {
   "cell_type": "code",
   "execution_count": 3,
   "metadata": {
    "collapsed": true
   },
   "outputs": [],
   "source": [
    "DG_list = []\n",
    "for file in glob.glob(os.path.join(DIR+\"sat_cuts/\",\"*.png\")):\n",
    "    DG_list.append(file)"
   ]
  },
  {
   "cell_type": "code",
   "execution_count": 4,
   "metadata": {
    "collapsed": false
   },
   "outputs": [],
   "source": [
    "GM_list = []\n",
    "for file in glob.glob(os.path.join(DIR,\"*.png\")):\n",
    "    GM_list.append(file)"
   ]
  },
  {
   "cell_type": "code",
   "execution_count": 5,
   "metadata": {
    "collapsed": false
   },
   "outputs": [
    {
     "data": {
      "text/plain": [
       "True"
      ]
     },
     "execution_count": 5,
     "metadata": {},
     "output_type": "execute_result"
    }
   ],
   "source": [
    "[os.path.basename(item) for item in DG_list] == [os.path.basename(item) for item in GM_list]"
   ]
  },
  {
   "cell_type": "code",
   "execution_count": 7,
   "metadata": {
    "collapsed": false
   },
   "outputs": [],
   "source": [
    "for i in range(len(DG_list)):\n",
    "    l_im = Image.open(DG_list[i])\n",
    "    r_im = Image.open(GM_list[i])\n",
    "    heights = [l_im.height,r_im.height]\n",
    "    widths = [l_im.width,r_im.width]\n",
    "    h_max = int(max(heights))\n",
    "    w_max = int(max(widths))\n",
    "    canvas = Image.new('RGB',(w_max * 2, h_max),(50,50,50))\n",
    "    \n",
    "    h = int(round(h_max / 2))\n",
    "    w_1 = int(round((w_max / 2)))\n",
    "    w_2 = w_max + w_1\n",
    "    \n",
    "    l_im_h = int(round(h - 0.5 * heights[0]))\n",
    "    r_im_h = int(round(h - 0.5 * heights[1]))\n",
    "    l_im_w = int(round(w_1 - 0.5 * widths[0]))\n",
    "    r_im_w = int(round(w_2 - 0.5 * widths[1]))\n",
    "    \n",
    "    canvas.paste(l_im,(l_im_w,l_im_h))\n",
    "    canvas.paste(r_im,(r_im_w,r_im_h))\n",
    "    \n",
    "    apn = os.path.basename(DG_list[i])\n",
    "    canvas.save(DIR+\"compare/\"+apn)"
   ]
  },
  {
   "cell_type": "code",
   "execution_count": null,
   "metadata": {
    "collapsed": true
   },
   "outputs": [],
   "source": []
  }
 ],
 "metadata": {
  "kernelspec": {
   "display_name": "Python 2",
   "language": "python",
   "name": "python2"
  },
  "language_info": {
   "codemirror_mode": {
    "name": "ipython",
    "version": 2
   },
   "file_extension": ".py",
   "mimetype": "text/x-python",
   "name": "python",
   "nbconvert_exporter": "python",
   "pygments_lexer": "ipython2",
   "version": "2.7.10"
  }
 },
 "nbformat": 4,
 "nbformat_minor": 0
}
